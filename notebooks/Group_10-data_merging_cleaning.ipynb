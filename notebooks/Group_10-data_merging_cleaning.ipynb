{
 "cells": [
  {
   "cell_type": "markdown",
   "id": "9507be78-afa6-4855-bd1e-9a05e7cfdb94",
   "metadata": {},
   "source": [
    "# Advanced Machine Learning Application - Assignment 3\n",
    "## Data Product with Machine Learning\n",
    "### Group 10\n",
    "    - Archit Pradip Murgudkar : 14190286\n",
    "    - Mahjabeen Mohiuddin : 24610507\n",
    "    - Rohan Rocky Britto : 24610990\n",
    "    - Smit Khatri : 24712248"
   ]
  },
  {
   "cell_type": "markdown",
   "id": "a1407fa0-d501-4ec2-a84f-7c7aa0ac8f5f",
   "metadata": {},
   "source": [
    "We started off by bulk extracting the zip files in each of the subfolders (ATL, BOS etc.) using application like 7zip or Winrar that provide this feature."
   ]
  },
  {
   "cell_type": "markdown",
   "id": "a40b1244-3e4a-4fb1-9bb5-00c9fd533df3",
   "metadata": {},
   "source": [
    "## Importing required packages"
   ]
  },
  {
   "cell_type": "code",
   "execution_count": 1,
   "id": "88368b09-7130-4b92-a050-2888734a0c22",
   "metadata": {
    "tags": []
   },
   "outputs": [],
   "source": [
    "import pandas as pd\n",
    "from pathlib import Path\n",
    "import os"
   ]
  },
  {
   "cell_type": "markdown",
   "id": "42b81236-e407-4751-8f53-9c9b537d0190",
   "metadata": {},
   "source": [
    "Read all the files in the directory and create a merged dataframe"
   ]
  },
  {
   "cell_type": "code",
   "execution_count": 2,
   "id": "7efa6307-73e2-4356-8849-ba1b30051424",
   "metadata": {
    "tags": []
   },
   "outputs": [],
   "source": [
    "current_directory = os.getcwd()\n",
    "parent_directory = Path(current_directory).parent.absolute()\n",
    "raw_data_path = parent_directory / 'data/raw/itineraries_csv/'"
   ]
  },
  {
   "cell_type": "code",
   "execution_count": 3,
   "id": "ffccf232-be38-453e-9492-094cb9d7d314",
   "metadata": {
    "tags": []
   },
   "outputs": [],
   "source": [
    "df = pd.DataFrame({})"
   ]
  },
  {
   "cell_type": "markdown",
   "id": "1a452bcb-39a8-4c6f-b1ed-1b124a7893ee",
   "metadata": {},
   "source": [
    "Concatenate the data from all the folders into the dataframe"
   ]
  },
  {
   "cell_type": "code",
   "execution_count": 4,
   "id": "3747f13c-ab91-44b2-ad44-f46cf5fb58cf",
   "metadata": {
    "tags": []
   },
   "outputs": [
    {
     "name": "stdout",
     "output_type": "stream",
     "text": [
      "874069 rows of data from ATL directory have been added to the dataframe\n",
      "989175 rows of data from BOS directory have been added to the dataframe\n",
      "854536 rows of data from CLT directory have been added to the dataframe\n",
      "770429 rows of data from DEN directory have been added to the dataframe\n",
      "896596 rows of data from DFW directory have been added to the dataframe\n",
      "747751 rows of data from DTW directory have been added to the dataframe\n",
      "699628 rows of data from EWR directory have been added to the dataframe\n",
      "594215 rows of data from IAD directory have been added to the dataframe\n",
      "688263 rows of data from JFK directory have been added to the dataframe\n",
      "1352275 rows of data from LAX directory have been added to the dataframe\n",
      "1021938 rows of data from LGA directory have been added to the dataframe\n",
      "875288 rows of data from MIA directory have been added to the dataframe\n",
      "527105 rows of data from OAK directory have been added to the dataframe\n",
      "894646 rows of data from ORD directory have been added to the dataframe\n",
      "785039 rows of data from PHL directory have been added to the dataframe\n",
      "949046 rows of data from SFO directory have been added to the dataframe\n"
     ]
    }
   ],
   "source": [
    "for directory in os.listdir(raw_data_path):\n",
    "    directory_path = raw_data_path / directory\n",
    "    files = Path(directory_path).rglob('*.csv')\n",
    "    \n",
    "    df_temp = pd.DataFrame({})\n",
    "    \n",
    "    for file in files:\n",
    "        df_file = pd.read_csv(file)\n",
    "        df_temp = pd.concat([df_temp, df_file])\n",
    "        \n",
    "    df = pd.concat([df, df_temp])\n",
    "    print(len(df_temp), 'rows of data from', directory, 'directory have been added to the dataframe')"
   ]
  },
  {
   "cell_type": "markdown",
   "id": "192ca840-cdbb-48c6-abf4-a921059e0ba4",
   "metadata": {},
   "source": [
    "## Data analysis and cleaning"
   ]
  },
  {
   "cell_type": "markdown",
   "id": "6ce5ad4d-8341-447d-88d6-dd39b2853d46",
   "metadata": {},
   "source": [
    "Check the shape of the dataframe"
   ]
  },
  {
   "cell_type": "code",
   "execution_count": 5,
   "id": "0af9dd65-132a-4a24-92c4-24b428216fce",
   "metadata": {
    "tags": []
   },
   "outputs": [
    {
     "data": {
      "text/plain": [
       "(13519999, 23)"
      ]
     },
     "execution_count": 5,
     "metadata": {},
     "output_type": "execute_result"
    }
   ],
   "source": [
    "df.shape"
   ]
  },
  {
   "cell_type": "markdown",
   "id": "ffc765d6-d5d3-4f47-9b11-99e4dbf2aadc",
   "metadata": {},
   "source": [
    "Checking the structure of the dataframe"
   ]
  },
  {
   "cell_type": "code",
   "execution_count": 6,
   "id": "bc8563c5-19e2-420e-8b78-7cb1dd3246ee",
   "metadata": {
    "tags": []
   },
   "outputs": [
    {
     "name": "stdout",
     "output_type": "stream",
     "text": [
      "<class 'pandas.core.frame.DataFrame'>\n",
      "Index: 13519999 entries, 0 to 1355\n",
      "Data columns (total 23 columns):\n",
      " #   Column                             Dtype  \n",
      "---  ------                             -----  \n",
      " 0   legId                              object \n",
      " 1   searchDate                         object \n",
      " 2   flightDate                         object \n",
      " 3   startingAirport                    object \n",
      " 4   destinationAirport                 object \n",
      " 5   travelDuration                     object \n",
      " 6   isBasicEconomy                     bool   \n",
      " 7   isRefundable                       bool   \n",
      " 8   isNonStop                          bool   \n",
      " 9   totalFare                          float64\n",
      " 10  totalTravelDistance                float64\n",
      " 11  segmentsDepartureTimeEpochSeconds  object \n",
      " 12  segmentsDepartureTimeRaw           object \n",
      " 13  segmentsArrivalTimeEpochSeconds    object \n",
      " 14  segmentsArrivalTimeRaw             object \n",
      " 15  segmentsArrivalAirportCode         object \n",
      " 16  segmentsDepartureAirportCode       object \n",
      " 17  segmentsAirlineName                object \n",
      " 18  segmentsAirlineCode                object \n",
      " 19  segmentsEquipmentDescription       object \n",
      " 20  segmentsDurationInSeconds          object \n",
      " 21  segmentsDistance                   object \n",
      " 22  segmentsCabinCode                  object \n",
      "dtypes: bool(3), float64(2), object(18)\n",
      "memory usage: 2.2+ GB\n"
     ]
    }
   ],
   "source": [
    "df.info()"
   ]
  },
  {
   "cell_type": "markdown",
   "id": "459616d7-535f-40c5-86c0-fd4756dc70ca",
   "metadata": {},
   "source": [
    "Let us have a quick look at the sample data in the dataset"
   ]
  },
  {
   "cell_type": "code",
   "execution_count": 7,
   "id": "6a3b3af0-bc35-4799-9bf9-d931d09c3119",
   "metadata": {
    "tags": []
   },
   "outputs": [
    {
     "data": {
      "text/html": [
       "<div>\n",
       "<style scoped>\n",
       "    .dataframe tbody tr th:only-of-type {\n",
       "        vertical-align: middle;\n",
       "    }\n",
       "\n",
       "    .dataframe tbody tr th {\n",
       "        vertical-align: top;\n",
       "    }\n",
       "\n",
       "    .dataframe thead th {\n",
       "        text-align: right;\n",
       "    }\n",
       "</style>\n",
       "<table border=\"1\" class=\"dataframe\">\n",
       "  <thead>\n",
       "    <tr style=\"text-align: right;\">\n",
       "      <th></th>\n",
       "      <th>legId</th>\n",
       "      <th>searchDate</th>\n",
       "      <th>flightDate</th>\n",
       "      <th>startingAirport</th>\n",
       "      <th>destinationAirport</th>\n",
       "      <th>travelDuration</th>\n",
       "      <th>isBasicEconomy</th>\n",
       "      <th>isRefundable</th>\n",
       "      <th>isNonStop</th>\n",
       "      <th>totalFare</th>\n",
       "      <th>...</th>\n",
       "      <th>segmentsArrivalTimeEpochSeconds</th>\n",
       "      <th>segmentsArrivalTimeRaw</th>\n",
       "      <th>segmentsArrivalAirportCode</th>\n",
       "      <th>segmentsDepartureAirportCode</th>\n",
       "      <th>segmentsAirlineName</th>\n",
       "      <th>segmentsAirlineCode</th>\n",
       "      <th>segmentsEquipmentDescription</th>\n",
       "      <th>segmentsDurationInSeconds</th>\n",
       "      <th>segmentsDistance</th>\n",
       "      <th>segmentsCabinCode</th>\n",
       "    </tr>\n",
       "  </thead>\n",
       "  <tbody>\n",
       "    <tr>\n",
       "      <th>188</th>\n",
       "      <td>ed10e4b10f87e73c1f8a62e51e83c4b0</td>\n",
       "      <td>2022-05-09</td>\n",
       "      <td>2022-05-28</td>\n",
       "      <td>CLT</td>\n",
       "      <td>JFK</td>\n",
       "      <td>PT3H18M</td>\n",
       "      <td>False</td>\n",
       "      <td>False</td>\n",
       "      <td>False</td>\n",
       "      <td>180.10</td>\n",
       "      <td>...</td>\n",
       "      <td>1653753660||1653762180</td>\n",
       "      <td>2022-05-28T12:01:00.000-04:00||2022-05-28T14:2...</td>\n",
       "      <td>RDU||JFK</td>\n",
       "      <td>CLT||RDU</td>\n",
       "      <td>American Airlines||American Airlines</td>\n",
       "      <td>AA||AA</td>\n",
       "      <td>Airbus A321||Embraer 175</td>\n",
       "      <td>3360||6420</td>\n",
       "      <td>130||434</td>\n",
       "      <td>coach||coach</td>\n",
       "    </tr>\n",
       "    <tr>\n",
       "      <th>878</th>\n",
       "      <td>e866de97329134122902a3d89aee43f4</td>\n",
       "      <td>2022-04-30</td>\n",
       "      <td>2022-06-18</td>\n",
       "      <td>BOS</td>\n",
       "      <td>IAD</td>\n",
       "      <td>PT6H45M</td>\n",
       "      <td>False</td>\n",
       "      <td>False</td>\n",
       "      <td>False</td>\n",
       "      <td>327.60</td>\n",
       "      <td>...</td>\n",
       "      <td>1655587800||1655606640</td>\n",
       "      <td>2022-06-18T17:30:00.000-04:00||2022-06-18T22:4...</td>\n",
       "      <td>JFK||IAD</td>\n",
       "      <td>BOS||JFK</td>\n",
       "      <td>Delta||Delta</td>\n",
       "      <td>DL||DL</td>\n",
       "      <td>Airbus A220-100||Canadair Regional Jet 900</td>\n",
       "      <td>5460||5940</td>\n",
       "      <td>185||221</td>\n",
       "      <td>coach||coach</td>\n",
       "    </tr>\n",
       "    <tr>\n",
       "      <th>1004</th>\n",
       "      <td>abacf8f93acc1acc78c269899d784339</td>\n",
       "      <td>2022-04-27</td>\n",
       "      <td>2022-06-06</td>\n",
       "      <td>DFW</td>\n",
       "      <td>PHL</td>\n",
       "      <td>PT11H7M</td>\n",
       "      <td>False</td>\n",
       "      <td>False</td>\n",
       "      <td>False</td>\n",
       "      <td>370.20</td>\n",
       "      <td>...</td>\n",
       "      <td>1654575900||1654609620</td>\n",
       "      <td>2022-06-06T23:25:00.000-05:00||2022-06-07T09:4...</td>\n",
       "      <td>BHM||PHL</td>\n",
       "      <td>DFW||BHM</td>\n",
       "      <td>American Airlines||American Airlines</td>\n",
       "      <td>AA||AA</td>\n",
       "      <td>Embraer 175||Canadian Regional Jet 700</td>\n",
       "      <td>6300||8220</td>\n",
       "      <td>592||772</td>\n",
       "      <td>coach||coach</td>\n",
       "    </tr>\n",
       "    <tr>\n",
       "      <th>1030</th>\n",
       "      <td>2b5de291a97e3b3c17996561102e7608</td>\n",
       "      <td>2022-05-05</td>\n",
       "      <td>2022-06-19</td>\n",
       "      <td>DFW</td>\n",
       "      <td>SFO</td>\n",
       "      <td>PT9H50M</td>\n",
       "      <td>False</td>\n",
       "      <td>False</td>\n",
       "      <td>False</td>\n",
       "      <td>503.20</td>\n",
       "      <td>...</td>\n",
       "      <td>1655662860||1655689380</td>\n",
       "      <td>2022-06-19T11:21:00.000-07:00||2022-06-19T18:4...</td>\n",
       "      <td>PHX||SFO</td>\n",
       "      <td>DFW||PHX</td>\n",
       "      <td>American Airlines||American Airlines</td>\n",
       "      <td>AA||AA</td>\n",
       "      <td>Airbus A321||Airbus A319</td>\n",
       "      <td>8880||7200</td>\n",
       "      <td>872||652</td>\n",
       "      <td>coach||coach</td>\n",
       "    </tr>\n",
       "    <tr>\n",
       "      <th>98</th>\n",
       "      <td>47822c335b99d7f51b2348d36c714838</td>\n",
       "      <td>2022-05-08</td>\n",
       "      <td>2022-05-27</td>\n",
       "      <td>DEN</td>\n",
       "      <td>DFW</td>\n",
       "      <td>PT2H1M</td>\n",
       "      <td>False</td>\n",
       "      <td>False</td>\n",
       "      <td>True</td>\n",
       "      <td>203.98</td>\n",
       "      <td>...</td>\n",
       "      <td>1653678060</td>\n",
       "      <td>2022-05-27T14:01:00.000-05:00</td>\n",
       "      <td>DFW</td>\n",
       "      <td>DEN</td>\n",
       "      <td>Frontier Airlines</td>\n",
       "      <td>F9</td>\n",
       "      <td>NaN</td>\n",
       "      <td>7260</td>\n",
       "      <td>650</td>\n",
       "      <td>coach</td>\n",
       "    </tr>\n",
       "  </tbody>\n",
       "</table>\n",
       "<p>5 rows × 23 columns</p>\n",
       "</div>"
      ],
      "text/plain": [
       "                                 legId  searchDate  flightDate   \n",
       "188   ed10e4b10f87e73c1f8a62e51e83c4b0  2022-05-09  2022-05-28  \\\n",
       "878   e866de97329134122902a3d89aee43f4  2022-04-30  2022-06-18   \n",
       "1004  abacf8f93acc1acc78c269899d784339  2022-04-27  2022-06-06   \n",
       "1030  2b5de291a97e3b3c17996561102e7608  2022-05-05  2022-06-19   \n",
       "98    47822c335b99d7f51b2348d36c714838  2022-05-08  2022-05-27   \n",
       "\n",
       "     startingAirport destinationAirport travelDuration  isBasicEconomy   \n",
       "188              CLT                JFK        PT3H18M           False  \\\n",
       "878              BOS                IAD        PT6H45M           False   \n",
       "1004             DFW                PHL        PT11H7M           False   \n",
       "1030             DFW                SFO        PT9H50M           False   \n",
       "98               DEN                DFW         PT2H1M           False   \n",
       "\n",
       "      isRefundable  isNonStop  totalFare  ...   \n",
       "188          False      False     180.10  ...  \\\n",
       "878          False      False     327.60  ...   \n",
       "1004         False      False     370.20  ...   \n",
       "1030         False      False     503.20  ...   \n",
       "98           False       True     203.98  ...   \n",
       "\n",
       "      segmentsArrivalTimeEpochSeconds   \n",
       "188            1653753660||1653762180  \\\n",
       "878            1655587800||1655606640   \n",
       "1004           1654575900||1654609620   \n",
       "1030           1655662860||1655689380   \n",
       "98                         1653678060   \n",
       "\n",
       "                                 segmentsArrivalTimeRaw   \n",
       "188   2022-05-28T12:01:00.000-04:00||2022-05-28T14:2...  \\\n",
       "878   2022-06-18T17:30:00.000-04:00||2022-06-18T22:4...   \n",
       "1004  2022-06-06T23:25:00.000-05:00||2022-06-07T09:4...   \n",
       "1030  2022-06-19T11:21:00.000-07:00||2022-06-19T18:4...   \n",
       "98                        2022-05-27T14:01:00.000-05:00   \n",
       "\n",
       "     segmentsArrivalAirportCode segmentsDepartureAirportCode   \n",
       "188                    RDU||JFK                     CLT||RDU  \\\n",
       "878                    JFK||IAD                     BOS||JFK   \n",
       "1004                   BHM||PHL                     DFW||BHM   \n",
       "1030                   PHX||SFO                     DFW||PHX   \n",
       "98                          DFW                          DEN   \n",
       "\n",
       "                       segmentsAirlineName segmentsAirlineCode   \n",
       "188   American Airlines||American Airlines              AA||AA  \\\n",
       "878                           Delta||Delta              DL||DL   \n",
       "1004  American Airlines||American Airlines              AA||AA   \n",
       "1030  American Airlines||American Airlines              AA||AA   \n",
       "98                       Frontier Airlines                  F9   \n",
       "\n",
       "                    segmentsEquipmentDescription segmentsDurationInSeconds   \n",
       "188                     Airbus A321||Embraer 175                3360||6420  \\\n",
       "878   Airbus A220-100||Canadair Regional Jet 900                5460||5940   \n",
       "1004      Embraer 175||Canadian Regional Jet 700                6300||8220   \n",
       "1030                    Airbus A321||Airbus A319                8880||7200   \n",
       "98                                           NaN                      7260   \n",
       "\n",
       "     segmentsDistance segmentsCabinCode  \n",
       "188          130||434      coach||coach  \n",
       "878          185||221      coach||coach  \n",
       "1004         592||772      coach||coach  \n",
       "1030         872||652      coach||coach  \n",
       "98                650             coach  \n",
       "\n",
       "[5 rows x 23 columns]"
      ]
     },
     "execution_count": 7,
     "metadata": {},
     "output_type": "execute_result"
    }
   ],
   "source": [
    "df.sample(5)"
   ]
  },
  {
   "cell_type": "markdown",
   "id": "0cbbca94-2cbe-4007-9aae-c837b7e1f0e3",
   "metadata": {},
   "source": [
    "Checking for null values in the dataset"
   ]
  },
  {
   "cell_type": "code",
   "execution_count": 8,
   "id": "149f5f03-a779-4e1a-8c36-67b304d347d9",
   "metadata": {
    "tags": []
   },
   "outputs": [
    {
     "data": {
      "text/plain": [
       "legId                                     0\n",
       "searchDate                                0\n",
       "flightDate                                0\n",
       "startingAirport                           0\n",
       "destinationAirport                        0\n",
       "travelDuration                            0\n",
       "isBasicEconomy                            0\n",
       "isRefundable                              0\n",
       "isNonStop                                 0\n",
       "totalFare                                 0\n",
       "totalTravelDistance                  959619\n",
       "segmentsDepartureTimeEpochSeconds         0\n",
       "segmentsDepartureTimeRaw                  0\n",
       "segmentsArrivalTimeEpochSeconds           0\n",
       "segmentsArrivalTimeRaw                    0\n",
       "segmentsArrivalAirportCode                0\n",
       "segmentsDepartureAirportCode              0\n",
       "segmentsAirlineName                       0\n",
       "segmentsAirlineCode                       0\n",
       "segmentsEquipmentDescription         262676\n",
       "segmentsDurationInSeconds                 0\n",
       "segmentsDistance                     126985\n",
       "segmentsCabinCode                         0\n",
       "dtype: int64"
      ]
     },
     "execution_count": 8,
     "metadata": {},
     "output_type": "execute_result"
    }
   ],
   "source": [
    "df.isna().sum()"
   ]
  },
  {
   "cell_type": "markdown",
   "id": "0faf184b-e930-4688-992c-d438e8516607",
   "metadata": {},
   "source": [
    "These features may not be used in our model as we may not be able to derive it from the input fields in streamlit. Hence, we will not be deleting or manipulating the data in them"
   ]
  },
  {
   "cell_type": "markdown",
   "id": "88956e66-1f3e-448a-ac16-52431d3b6e9d",
   "metadata": {
    "tags": []
   },
   "source": [
    "Checking duplicate entries in the data"
   ]
  },
  {
   "cell_type": "code",
   "execution_count": 9,
   "id": "3b12f663-76ab-4bea-9ba6-66f29dddadfc",
   "metadata": {
    "tags": []
   },
   "outputs": [
    {
     "data": {
      "text/plain": [
       "0"
      ]
     },
     "execution_count": 9,
     "metadata": {},
     "output_type": "execute_result"
    }
   ],
   "source": [
    "df.duplicated().sum()"
   ]
  },
  {
   "cell_type": "code",
   "execution_count": 10,
   "id": "3acfe009-539b-476c-ac58-9b5930c31259",
   "metadata": {
    "tags": []
   },
   "outputs": [
    {
     "data": {
      "text/plain": [
       "<Axes: >"
      ]
     },
     "execution_count": 10,
     "metadata": {},
     "output_type": "execute_result"
    },
    {
     "data": {
      "image/png": "[encoded data removed]",
      "text/plain": [
       "<Figure size 640x480 with 1 Axes>"
      ]
     },
     "metadata": {},
     "output_type": "display_data"
    }
   ],
   "source": [
    "import matplotlib.pyplot as plt\n",
    "df.boxplot(column='totalFare')"
   ]
  },
  {
   "cell_type": "markdown",
   "id": "d347143c-08e8-4141-9315-50ddf5f998e1",
   "metadata": {},
   "source": [
    "Outliers could be mostly those fares that are more than $4000. Let us check the number of trips that have such high fare."
   ]
  },
  {
   "cell_type": "code",
   "execution_count": 11,
   "id": "12692f0d-d226-4338-a0e4-b0a4bb6bd9a0",
   "metadata": {
    "tags": []
   },
   "outputs": [
    {
     "data": {
      "text/plain": [
       "75"
      ]
     },
     "execution_count": 11,
     "metadata": {},
     "output_type": "execute_result"
    }
   ],
   "source": [
    "len(df[df['totalFare']>4000])"
   ]
  },
  {
   "cell_type": "markdown",
   "id": "40a2a026-4aba-47db-8f28-dd73aa419ebf",
   "metadata": {
    "tags": []
   },
   "source": [
    "There are only 75 such cases in the dataset. These could be genuine cases where the tickets are of first class or those that are searched very close to the flight date."
   ]
  },
  {
   "cell_type": "code",
   "execution_count": 12,
   "id": "eba86a52-b69b-4968-963d-8caa2618d659",
   "metadata": {
    "tags": []
   },
   "outputs": [
    {
     "data": {
      "text/plain": [
       "68"
      ]
     },
     "execution_count": 12,
     "metadata": {},
     "output_type": "execute_result"
    }
   ],
   "source": [
    "df[df['totalFare']>4000]['segmentsCabinCode'].str.contains('first').sum()"
   ]
  },
  {
   "cell_type": "markdown",
   "id": "606b2701-618a-4218-9d5f-4d4d069ea38f",
   "metadata": {},
   "source": [
    "This confirms our hypothesis and hence, we won't discard these rows"
   ]
  },
  {
   "cell_type": "markdown",
   "id": "f2bd8b21-ec85-4c4a-bed7-dcedde88df81",
   "metadata": {},
   "source": [
    "Flight year, month and week number extracted from the flight date."
   ]
  },
  {
   "cell_type": "code",
   "execution_count": 13,
   "id": "c770946a-3a4b-4c4d-92fa-09d8a762b280",
   "metadata": {
    "tags": []
   },
   "outputs": [],
   "source": [
    "df['flightDate'] = pd.to_datetime(df['flightDate'])\n",
    "\n",
    "df['flightYear'] = df['flightDate'].dt.year\n",
    "df['flightMonth'] = df['flightDate'].dt.month\n",
    "df['flightDay'] = df['flightDate'].dt.day\n",
    "df['flightWeek'] = df['flightDate'].dt.isocalendar().week"
   ]
  },
  {
   "cell_type": "markdown",
   "id": "4ed04c9f-ce0b-491e-be5a-992276894a51",
   "metadata": {
    "tags": []
   },
   "source": [
    "The gap between the search date and flight date can be a major factor in determining the price of a flight. In production environment, search date would be the current date and would be easily available."
   ]
  },
  {
   "cell_type": "markdown",
   "id": "752c2703-3a6e-4165-8ffa-379a6195d3f8",
   "metadata": {
    "tags": []
   },
   "source": [
    "As the test will be performed on data of the past date, we will include a field for manually setting the search date that will only be available on test evironment."
   ]
  },
  {
   "cell_type": "code",
   "execution_count": 14,
   "id": "318a0e2e-278c-4832-8a08-11f5634c90a1",
   "metadata": {
    "tags": []
   },
   "outputs": [],
   "source": [
    "df['searchGap'] = (pd.to_datetime(df['flightDate'])-pd.to_datetime(df['searchDate'])).dt.days"
   ]
  },
  {
   "cell_type": "markdown",
   "id": "ee92a53b-6dac-48a0-96ac-8d4275751c4b",
   "metadata": {},
   "source": [
    "Save the merged dataset so that we do not have to perform merging again"
   ]
  },
  {
   "cell_type": "code",
   "execution_count": 15,
   "id": "932e37f4-551f-4822-9c8b-2a9b42108822",
   "metadata": {
    "tags": []
   },
   "outputs": [],
   "source": [
    "df.to_csv('../data/raw/merged_dataset.csv', index=False)"
   ]
  }
 ],
 "metadata": {
  "kernelspec": {
   "display_name": "Python 3 (ipykernel)",
   "language": "python",
   "name": "python3"
  },
  "language_info": {
   "codemirror_mode": {
    "name": "ipython",
    "version": 3
   },
   "file_extension": ".py",
   "mimetype": "text/x-python",
   "name": "python",
   "nbconvert_exporter": "python",
   "pygments_lexer": "ipython3",
   "version": "3.11.4"
  }
 },
 "nbformat": 4,
 "nbformat_minor": 5
}
