{
 "cells": [
  {
   "cell_type": "markdown",
   "id": "9052ccd2-15ea-4a0e-8a53-6d2bc35e00dd",
   "metadata": {},
   "source": [
    "# Advanced Machine Learning Application - Assignment 3\n",
    "## Data Product with Machine Learning\n",
    "### Group 10\n",
    "    - Archit Pradip Murgudkar : 14190286\n",
    "    - Mahjabeen Mohiuddin : 24610507\n",
    "    - Rohan Rocky Britto : 24610990\n",
    "    - Smit Khatri : 24712248\n",
    "    \n",
    "This model was built by Rohan Rocky Britto"
   ]
  },
  {
   "cell_type": "markdown",
   "id": "2db4113c-7391-4e90-8ffb-552d0adbe954",
   "metadata": {},
   "source": [
    "## Data Preprocessing"
   ]
  },
  {
   "cell_type": "code",
   "execution_count": 3,
   "id": "1b0aa921-5b6f-4f6e-87cd-8861c0ba1576",
   "metadata": {
    "tags": []
   },
   "outputs": [],
   "source": [
    "import pandas as pd\n",
    "import numpy as np"
   ]
  },
  {
   "cell_type": "markdown",
   "id": "aa657ed6-7beb-4d5e-8e45-74b048a20448",
   "metadata": {},
   "source": [
    "Read the merged dataset"
   ]
  },
  {
   "cell_type": "code",
   "execution_count": null,
   "id": "994ed7b3-b3b6-4947-84a9-44172073af9d",
   "metadata": {
    "tags": []
   },
   "outputs": [],
   "source": [
    "df_cleaned = pd.read_csv('../data/raw/merged_dataset.csv')"
   ]
  },
  {
   "cell_type": "markdown",
   "id": "0bdc7d9f-986e-4c47-9338-987a5fdb2600",
   "metadata": {},
   "source": [
    "The user will only input 5 fields, namely Departure airport, Destination airport, Departure date, Departure time and Cabin code in the streamlit application. Based on these inputs, I will be fetching some more fields in the backend for my business case. Hence, I have only copied those features into df_cleaned for analysis and preprocessing. I will not be using flightDate as it can lead to overfitting. As flightWeek has week of the year data, I will not be using flightMonth field."
   ]
  },
  {
   "cell_type": "code",
   "execution_count": null,
   "id": "5ace60cc-edeb-4807-9c64-a9951bc14e04",
   "metadata": {
    "tags": []
   },
   "outputs": [],
   "source": [
    "df_cleaned= df_cleaned[['searchGap', 'flightYear', 'flightWeek', 'startingAirport', 'destinationAirport', 'totalFare', 'segmentsDepartureTimeRaw', 'segmentsAirlineName', 'segmentsCabinCode']]"
   ]
  },
  {
   "cell_type": "markdown",
   "id": "c6992fcc-aa23-4cc2-b1f8-877330bba37d",
   "metadata": {},
   "source": [
    "The day of the week can affect the prices of flights, for eg. the flights are generally more expensive on Friday and weekends compared to weekdays. Hence, I will get the day of the week as a number (0 for Monday, 1 for Tuesday, etc.)"
   ]
  },
  {
   "cell_type": "code",
   "execution_count": null,
   "id": "2d4040ee-3433-4236-8539-37272bf71290",
   "metadata": {
    "tags": []
   },
   "outputs": [],
   "source": [
    "#df_cleaned['flightDayOfWeek'] = pd.to_datetime(df_cleaned['flightDate']).dt.dayofweek"
   ]
  },
  {
   "cell_type": "markdown",
   "id": "17b55401-90bf-4166-9d1c-cf72e8c7649c",
   "metadata": {},
   "source": [
    "We will not be training the data on the exact time of departure of the flight due to chances of overfitting, however, the hour of the flight can highly influence the price of the flight. For example, a night flight might be cheaper than a day flight."
   ]
  },
  {
   "cell_type": "code",
   "execution_count": null,
   "id": "9ab43f3a-8770-4dfe-9fed-0873e37a814a",
   "metadata": {
    "tags": []
   },
   "outputs": [],
   "source": [
    "df_cleaned['departureHour'] = pd.to_datetime(df_cleaned['segmentsDepartureTimeRaw'].str.split('\\|\\|').str[0], utc=True).dt.hour"
   ]
  },
  {
   "cell_type": "code",
   "execution_count": null,
   "id": "456055bb-d2ac-40eb-9a62-0dd5ce1b5e78",
   "metadata": {
    "tags": []
   },
   "outputs": [],
   "source": [
    "def pivot_airline(df, col_name):\n",
    "    df_split = pd.DataFrame({})\n",
    "    df_split[col_name] = df[col_name].str.split('\\|\\|')\n",
    "    df_exploded = df_split.explode(col_name)\n",
    "    unique_airlines = df_exploded[col_name].unique()\n",
    "    pivot_table = df_exploded.pivot_table(index=df_exploded.index, columns=col_name, aggfunc='size', fill_value=0)\n",
    "    df = pd.concat([df, pivot_table], axis=1)\n",
    "    return df, unique_airlines"
   ]
  },
  {
   "cell_type": "code",
   "execution_count": null,
   "id": "af887ed9-dc6e-4581-aa79-5229f450e3cc",
   "metadata": {
    "tags": []
   },
   "outputs": [],
   "source": [
    "df_cleaned, unique_airlines = pivot_airline(df_cleaned, 'segmentsAirlineName')"
   ]
  },
  {
   "cell_type": "markdown",
   "id": "ffdc3a13-e9e9-4962-88f2-6fadbb0bea08",
   "metadata": {},
   "source": [
    "Cabin codes have a hierarchy or order. Let us map them accordingly."
   ]
  },
  {
   "cell_type": "code",
   "execution_count": null,
   "id": "e64250c2-1663-48e8-a38f-01472092f8b5",
   "metadata": {
    "tags": []
   },
   "outputs": [],
   "source": [
    "cabin_weights = {'coach': 1, 'premium coach': 2, 'business': 3, 'first': 4}"
   ]
  },
  {
   "cell_type": "markdown",
   "id": "0fcd4a50-8b47-4ff0-b242-c37eb3bf3878",
   "metadata": {},
   "source": [
    "I have noticed that there are some cases where the traveller has searched for separate travel coaches in a layover flight. I have created a function to map them. As per my logic, [coach,coach] will be converted to (1+1)/2, which is similar to coach, but if the cabin code is [first,coach], it will calculate it as (4+1)/2, which will inform the system that the price difference might be due to a higher cabin code."
   ]
  },
  {
   "cell_type": "code",
   "execution_count": null,
   "id": "bddf53c3-3458-4f1d-88b4-a460843f9aa2",
   "metadata": {
    "tags": []
   },
   "outputs": [],
   "source": [
    "def calculate_cabin_weight(cabin_list):\n",
    "    weighted_sum = sum(cabin_weights[cabin] for cabin in cabin_list)/len(cabin_list)\n",
    "    return weighted_sum"
   ]
  },
  {
   "cell_type": "code",
   "execution_count": null,
   "id": "3932a158-7e1a-488b-98e7-2f2b90c14897",
   "metadata": {
    "tags": []
   },
   "outputs": [],
   "source": [
    "df_cleaned['cabinWeight'] = df_cleaned['segmentsCabinCode'].str.split('\\|\\|').apply(calculate_cabin_weight)"
   ]
  },
  {
   "cell_type": "markdown",
   "id": "9ec52354-857d-4aa0-9401-b37ee3f2992a",
   "metadata": {
    "tags": []
   },
   "source": [
    "We will store the flight timetable in a csv file so that we can display a complete list of flights that travel between the given airports at the given hour of the day."
   ]
  },
  {
   "cell_type": "code",
   "execution_count": null,
   "id": "92be00d5-d58c-4da3-a87b-f4c281d0a577",
   "metadata": {
    "tags": []
   },
   "outputs": [],
   "source": [
    "timetable_cols = ['startingAirport', 'destinationAirport', 'departureHour', 'segmentsAirlineName']"
   ]
  },
  {
   "cell_type": "code",
   "execution_count": null,
   "id": "ac0be787-bd18-4c6d-8636-8e76c6de281f",
   "metadata": {
    "tags": []
   },
   "outputs": [],
   "source": [
    "df_airline_timetable = df_cleaned[timetable_cols].drop_duplicates().sort_values(by=timetable_cols)\n",
    "df_airline_timetable.to_csv('../data/processed/airline_timetable.csv', index=False)"
   ]
  },
  {
   "cell_type": "markdown",
   "id": "cb74318c-3dc2-40b5-b8c1-536195248a39",
   "metadata": {},
   "source": [
    "Let us check the columns and segregate them into numerical, categorical and target lists"
   ]
  },
  {
   "cell_type": "code",
   "execution_count": null,
   "id": "b2e80c13-6b2d-44f0-b30a-c1430b59642d",
   "metadata": {
    "tags": []
   },
   "outputs": [],
   "source": [
    "df_cleaned.columns"
   ]
  },
  {
   "cell_type": "code",
   "execution_count": 1,
   "id": "10a19dc7-0c66-4b9d-a28c-3c8b33554c7d",
   "metadata": {},
   "outputs": [],
   "source": [
    "target = 'totalFare'\n",
    "num_cols = ['flightYear', 'flightWeek', 'searchGap', 'departureHour']\n",
    "cat_cols = ['startingAirport', 'destinationAirport']\n",
    "enc_cols = ['cabinWeight', 'Delta', 'JetBlue Airways', 'American Airlines', 'United', 'Spirit Airlines', 'Frontier Airlines', 'Cape Air', 'Alaska Airlines', 'Boutique Air', 'Key Lime Air', 'Southern Airways Express', 'Sun Country Airlines', 'Hawaiian Airlines', 'Contour Airlines']\n",
    "X_cols = num_cols+enc_cols+cat_cols\n",
    "all_cols = X_cols+[target]"
   ]
  },
  {
   "cell_type": "markdown",
   "id": "6b09449b-80e9-4224-b529-4461e33cc6ab",
   "metadata": {},
   "source": [
    "Let us drop all the other columns"
   ]
  },
  {
   "cell_type": "code",
   "execution_count": null,
   "id": "454000b1-2601-470f-a75d-d4132b68120f",
   "metadata": {
    "tags": []
   },
   "outputs": [],
   "source": [
    "df_cleaned = df_cleaned[all_cols]"
   ]
  },
  {
   "cell_type": "markdown",
   "id": "210abbd4-736b-482a-a1fa-d02132b29a90",
   "metadata": {},
   "source": [
    "With the limited columns that we have selected, there is a chance of duplication. Let us check it and process them accordingly."
   ]
  },
  {
   "cell_type": "code",
   "execution_count": null,
   "id": "42800779-8ea5-449e-8107-08eac16ab0ae",
   "metadata": {
    "tags": []
   },
   "outputs": [],
   "source": [
    "df_cleaned[X_cols].duplicated().unique()"
   ]
  },
  {
   "cell_type": "markdown",
   "id": "6ed4cdab-2b81-42f0-9dd3-b40b60d69594",
   "metadata": {},
   "source": [
    "Let us calculate the mean value of fares for duplicated cases."
   ]
  },
  {
   "cell_type": "code",
   "execution_count": null,
   "id": "80cc4ba5-e33d-4ff8-b1c1-cbd050bbad6f",
   "metadata": {
    "tags": []
   },
   "outputs": [],
   "source": [
    "df_cleaned = df_cleaned.groupby(by=X_cols, as_index=False).mean()"
   ]
  },
  {
   "cell_type": "markdown",
   "id": "a24f15c0-a471-41bf-97e1-c3a27bcc60bc",
   "metadata": {},
   "source": [
    "## Train test split"
   ]
  },
  {
   "cell_type": "markdown",
   "id": "2cd601ad-b90b-4264-ae16-4c5dee8f8dde",
   "metadata": {},
   "source": [
    "As we are dealing with time series data, we will be using the older data for training the model and comparatively newer data for testing it. This allows us to check if the model is able to pickup the newer trend."
   ]
  },
  {
   "cell_type": "code",
   "execution_count": null,
   "id": "278e45d3-34c0-4e07-aade-a50f19dc6626",
   "metadata": {
    "tags": []
   },
   "outputs": [],
   "source": [
    "df_cleaned['flightWeek'].unique()"
   ]
  },
  {
   "cell_type": "markdown",
   "id": "40b867e3-3b76-4f20-948a-707cbee2a9b0",
   "metadata": {},
   "source": [
    "Dividing the dataset using flight weeks. Data from flight weeks 15-23 (approximately 71%) as training data, weeks 24-25 (approximately 18%) as validation data and weeks 26-28 (approximately 11%) as testing data"
   ]
  },
  {
   "cell_type": "code",
   "execution_count": null,
   "id": "df85693f-245e-4f78-bcdc-348b33b969d9",
   "metadata": {
    "tags": []
   },
   "outputs": [],
   "source": [
    "X_train = df_cleaned[df_cleaned['flightWeek'] <= 23]\n",
    "X_val = df_cleaned[df_cleaned['flightWeek'].isin([24,25])]\n",
    "X_test = df_cleaned[df_cleaned['flightWeek'] >= 26]"
   ]
  },
  {
   "cell_type": "code",
   "execution_count": null,
   "id": "11b90acd-5182-442a-b258-66317a6e4b3d",
   "metadata": {
    "tags": []
   },
   "outputs": [],
   "source": [
    "print('Training dataset percentage:', len(X_train)*100/len(df_cleaned))\n",
    "print('Validation dataset percentage:', len(X_val)*100/len(df_cleaned))\n",
    "print('Testing dataset percentage:', len(X_test)*100/len(df_cleaned))"
   ]
  },
  {
   "cell_type": "markdown",
   "id": "ab548027-e4de-4418-ad9d-56d1fa2de94f",
   "metadata": {},
   "source": [
    "Let us separate the target variable from the datasets"
   ]
  },
  {
   "cell_type": "code",
   "execution_count": null,
   "id": "9b5ee63f-60fc-44ba-86b8-08919f96f247",
   "metadata": {
    "tags": []
   },
   "outputs": [],
   "source": [
    "y_train = X_train.pop(target)\n",
    "y_val = X_val.pop(target)\n",
    "y_test = X_test.pop(target)"
   ]
  },
  {
   "cell_type": "markdown",
   "id": "ac9e48e9-cfd0-4298-a2cc-6bc0a05b3c1b",
   "metadata": {},
   "source": [
    "Save the datasets to processed folder so that we can directly read from it in the future"
   ]
  },
  {
   "cell_type": "code",
   "execution_count": null,
   "id": "202084c2-30c6-42ab-86d2-3f835062bbb7",
   "metadata": {
    "tags": []
   },
   "outputs": [],
   "source": [
    "X_train.to_csv('../data/processed/airline_X_train.csv', index=False)\n",
    "X_val.to_csv('../data/processed/airline_X_val.csv', index=False)\n",
    "X_test.to_csv('../data/processed/airline_X_test.csv', index=False)"
   ]
  },
  {
   "cell_type": "code",
   "execution_count": null,
   "id": "1217d45b-532c-4ad3-929c-9ef87c14d4df",
   "metadata": {
    "tags": []
   },
   "outputs": [],
   "source": [
    "y_train.to_csv('../data/processed/airline_y_train.csv', index=False)\n",
    "y_val.to_csv('../data/processed/airline_y_val.csv', index=False)\n",
    "y_test.to_csv('../data/processed/airline_y_test.csv', index=False)"
   ]
  },
  {
   "cell_type": "markdown",
   "id": "626da53f-09ac-4cf0-9227-0313b8cd13b1",
   "metadata": {},
   "source": [
    "## Read the saved training, validation and testing datasets"
   ]
  },
  {
   "cell_type": "code",
   "execution_count": 4,
   "id": "1412793c-d7e7-44eb-bea3-110977295876",
   "metadata": {
    "tags": []
   },
   "outputs": [],
   "source": [
    "X_train = pd.read_csv('../data/processed/airline_X_train.csv')\n",
    "X_val = pd.read_csv('../data/processed/airline_X_val.csv')\n",
    "X_test = pd.read_csv('../data/processed/airline_X_test.csv')"
   ]
  },
  {
   "cell_type": "code",
   "execution_count": 5,
   "id": "0532e44d-e43f-4a20-b6a4-f7937cc79fea",
   "metadata": {
    "tags": []
   },
   "outputs": [],
   "source": [
    "y_train = pd.read_csv('../data/processed/airline_y_train.csv')[target]\n",
    "y_val = pd.read_csv('../data/processed/airline_y_val.csv')[target]\n",
    "y_test = pd.read_csv('../data/processed/airline_y_test.csv')[target]"
   ]
  },
  {
   "cell_type": "markdown",
   "id": "b0bc336a-16fb-41ad-a808-3a7eb4832089",
   "metadata": {},
   "source": [
    "## Baseline Model"
   ]
  },
  {
   "cell_type": "markdown",
   "id": "6d211459-26f9-4281-8579-2cfb15c1c9ae",
   "metadata": {},
   "source": [
    "Let us build a baseline model with mean values and test it using MAE and RMSE scores"
   ]
  },
  {
   "cell_type": "code",
   "execution_count": 21,
   "id": "343ee4d9-3a37-4e84-8f77-27ae05930a80",
   "metadata": {
    "tags": []
   },
   "outputs": [],
   "source": [
    "mean_value = y_train.mean()\n",
    "base_preds = np.full((len(y_train), 1), mean_value)"
   ]
  },
  {
   "cell_type": "code",
   "execution_count": 6,
   "id": "276d9768-d7b9-4330-b6d2-0ac1b3c60461",
   "metadata": {
    "tags": []
   },
   "outputs": [],
   "source": [
    "from sklearn.metrics import mean_absolute_error, mean_squared_error"
   ]
  },
  {
   "cell_type": "code",
   "execution_count": 22,
   "id": "780a9ea8-9e6d-483c-8d62-649d1d96cfd1",
   "metadata": {
    "tags": []
   },
   "outputs": [
    {
     "name": "stdout",
     "output_type": "stream",
     "text": [
      "The Mean Absolute Error for the baseline model is  158.91944319263337\n",
      "The Root Mean Squared Error for baseline model is  231.7206561042368\n"
     ]
    }
   ],
   "source": [
    "print('The Mean Absolute Error for the baseline model is ', mean_absolute_error(y_train, base_preds))\n",
    "print('The Root Mean Squared Error for baseline model is ', mean_squared_error(y_train, base_preds, squared=False))"
   ]
  },
  {
   "cell_type": "markdown",
   "id": "5ba46dfc-468d-4ed0-bdae-287d49555909",
   "metadata": {},
   "source": [
    "## Building pipelines for scaling, encoding and model execution"
   ]
  },
  {
   "cell_type": "markdown",
   "id": "98b72694-37dc-44d1-83a6-fe2cf58f46e7",
   "metadata": {
    "tags": []
   },
   "source": [
    "Importing processing and pipeline related packages"
   ]
  },
  {
   "cell_type": "code",
   "execution_count": 7,
   "id": "e29bfcf2-ea54-4d8d-a728-fd85be577688",
   "metadata": {
    "tags": []
   },
   "outputs": [],
   "source": [
    "from sklearn.pipeline import Pipeline\n",
    "from sklearn.compose import ColumnTransformer\n",
    "from sklearn.preprocessing import StandardScaler, TargetEncoder\n",
    "from joblib import dump, load"
   ]
  },
  {
   "cell_type": "markdown",
   "id": "3f57cf58-3c56-479b-b6ba-2ff45edd91b3",
   "metadata": {},
   "source": [
    "Creating a pipeline for standard scaling of numerical features and target encoding of categorical features as they have many unique values"
   ]
  },
  {
   "cell_type": "code",
   "execution_count": 8,
   "id": "dbee5473-5c0d-4f3d-bdc2-ad0f61ddaa93",
   "metadata": {
    "tags": []
   },
   "outputs": [],
   "source": [
    "num_transformer = Pipeline(\n",
    "    steps=[\n",
    "        ('scaler', StandardScaler())\n",
    "    ]\n",
    ")"
   ]
  },
  {
   "cell_type": "code",
   "execution_count": 9,
   "id": "06f3add6-37a8-41e2-95d8-78aaf90be6c5",
   "metadata": {
    "tags": []
   },
   "outputs": [],
   "source": [
    "cat_transformer = Pipeline(\n",
    "    steps=[\n",
    "        ('target_encoder', TargetEncoder(random_state=8))\n",
    "    ]\n",
    ")"
   ]
  },
  {
   "cell_type": "markdown",
   "id": "4f2febc2-843e-46d5-a48c-b6faabea79da",
   "metadata": {},
   "source": [
    "Creating a column transformer to build a column-wise transformation list"
   ]
  },
  {
   "cell_type": "code",
   "execution_count": 10,
   "id": "46ce9cbf-cd88-4efe-bb70-b34e19a9f022",
   "metadata": {
    "tags": []
   },
   "outputs": [],
   "source": [
    "preprocessor = ColumnTransformer(\n",
    "    transformers=[\n",
    "        ('num_transformer', num_transformer, num_cols),\n",
    "        ('cat_transformer', cat_transformer, cat_cols),\n",
    "        ('enc_transformer', 'passthrough', enc_cols)\n",
    "    ]\n",
    ")"
   ]
  },
  {
   "cell_type": "markdown",
   "id": "891f71e7-c1af-4374-839b-fc13b6c2c352",
   "metadata": {},
   "source": [
    "Creating a preprocessor pipeline and storing it for future use"
   ]
  },
  {
   "cell_type": "code",
   "execution_count": 11,
   "id": "ac502c5f-9b3b-4648-baca-f8b2d26c1532",
   "metadata": {
    "tags": []
   },
   "outputs": [],
   "source": [
    "preprocessor_pipe = Pipeline(\n",
    "    steps=[\n",
    "        ('preprocessor', preprocessor)\n",
    "    ]\n",
    ")"
   ]
  },
  {
   "cell_type": "code",
   "execution_count": null,
   "id": "8fe5d274-df2f-4cf5-bcbb-4c4dfedadc89",
   "metadata": {
    "tags": []
   },
   "outputs": [],
   "source": [
    "dump(preprocessor_pipe, '../src/airline_preproc_pipe.joblib')"
   ]
  },
  {
   "cell_type": "markdown",
   "id": "2cfbbc42-99a5-4618-959c-4502ef3f7556",
   "metadata": {},
   "source": [
    "## Model Building and Evaluation"
   ]
  },
  {
   "cell_type": "markdown",
   "id": "18e5d1c0-2477-4ac2-8ac2-c6b6c9057e26",
   "metadata": {},
   "source": [
    "Let us start by building a Linear Regression model and check if it is able to perform well"
   ]
  },
  {
   "cell_type": "code",
   "execution_count": 23,
   "id": "fa905b32-b990-4f3c-ae06-1accb6ce1811",
   "metadata": {
    "tags": []
   },
   "outputs": [],
   "source": [
    "from sklearn.linear_model import LinearRegression"
   ]
  },
  {
   "cell_type": "code",
   "execution_count": 24,
   "id": "b012a25f-a9bd-4157-a945-de4451af7660",
   "metadata": {
    "tags": []
   },
   "outputs": [],
   "source": [
    "lin_pipe = Pipeline(\n",
    "    steps=[\n",
    "        ('preprocessor', preprocessor_pipe),\n",
    "        ('lin', LinearRegression())\n",
    "    ]\n",
    ")"
   ]
  },
  {
   "cell_type": "code",
   "execution_count": 25,
   "id": "ce396705-c81d-4b61-bcc3-666dce63f098",
   "metadata": {
    "tags": []
   },
   "outputs": [
    {
     "data": {
      "text/html": [
       "<style>#sk-container-id-2 {color: black;}#sk-container-id-2 pre{padding: 0;}#sk-container-id-2 div.sk-toggleable {background-color: white;}#sk-container-id-2 label.sk-toggleable__label {cursor: pointer;display: block;width: 100%;margin-bottom: 0;padding: 0.3em;box-sizing: border-box;text-align: center;}#sk-container-id-2 label.sk-toggleable__label-arrow:before {content: \"▸\";float: left;margin-right: 0.25em;color: #696969;}#sk-container-id-2 label.sk-toggleable__label-arrow:hover:before {color: black;}#sk-container-id-2 div.sk-estimator:hover label.sk-toggleable__label-arrow:before {color: black;}#sk-container-id-2 div.sk-toggleable__content {max-height: 0;max-width: 0;overflow: hidden;text-align: left;background-color: #f0f8ff;}#sk-container-id-2 div.sk-toggleable__content pre {margin: 0.2em;color: black;border-radius: 0.25em;background-color: #f0f8ff;}#sk-container-id-2 input.sk-toggleable__control:checked~div.sk-toggleable__content {max-height: 200px;max-width: 100%;overflow: auto;}#sk-container-id-2 input.sk-toggleable__control:checked~label.sk-toggleable__label-arrow:before {content: \"▾\";}#sk-container-id-2 div.sk-estimator input.sk-toggleable__control:checked~label.sk-toggleable__label {background-color: #d4ebff;}#sk-container-id-2 div.sk-label input.sk-toggleable__control:checked~label.sk-toggleable__label {background-color: #d4ebff;}#sk-container-id-2 input.sk-hidden--visually {border: 0;clip: rect(1px 1px 1px 1px);clip: rect(1px, 1px, 1px, 1px);height: 1px;margin: -1px;overflow: hidden;padding: 0;position: absolute;width: 1px;}#sk-container-id-2 div.sk-estimator {font-family: monospace;background-color: #f0f8ff;border: 1px dotted black;border-radius: 0.25em;box-sizing: border-box;margin-bottom: 0.5em;}#sk-container-id-2 div.sk-estimator:hover {background-color: #d4ebff;}#sk-container-id-2 div.sk-parallel-item::after {content: \"\";width: 100%;border-bottom: 1px solid gray;flex-grow: 1;}#sk-container-id-2 div.sk-label:hover label.sk-toggleable__label {background-color: #d4ebff;}#sk-container-id-2 div.sk-serial::before {content: \"\";position: absolute;border-left: 1px solid gray;box-sizing: border-box;top: 0;bottom: 0;left: 50%;z-index: 0;}#sk-container-id-2 div.sk-serial {display: flex;flex-direction: column;align-items: center;background-color: white;padding-right: 0.2em;padding-left: 0.2em;position: relative;}#sk-container-id-2 div.sk-item {position: relative;z-index: 1;}#sk-container-id-2 div.sk-parallel {display: flex;align-items: stretch;justify-content: center;background-color: white;position: relative;}#sk-container-id-2 div.sk-item::before, #sk-container-id-2 div.sk-parallel-item::before {content: \"\";position: absolute;border-left: 1px solid gray;box-sizing: border-box;top: 0;bottom: 0;left: 50%;z-index: -1;}#sk-container-id-2 div.sk-parallel-item {display: flex;flex-direction: column;z-index: 1;position: relative;background-color: white;}#sk-container-id-2 div.sk-parallel-item:first-child::after {align-self: flex-end;width: 50%;}#sk-container-id-2 div.sk-parallel-item:last-child::after {align-self: flex-start;width: 50%;}#sk-container-id-2 div.sk-parallel-item:only-child::after {width: 0;}#sk-container-id-2 div.sk-dashed-wrapped {border: 1px dashed gray;margin: 0 0.4em 0.5em 0.4em;box-sizing: border-box;padding-bottom: 0.4em;background-color: white;}#sk-container-id-2 div.sk-label label {font-family: monospace;font-weight: bold;display: inline-block;line-height: 1.2em;}#sk-container-id-2 div.sk-label-container {text-align: center;}#sk-container-id-2 div.sk-container {/* jupyter's `normalize.less` sets `[hidden] { display: none; }` but bootstrap.min.css set `[hidden] { display: none !important; }` so we also need the `!important` here to be able to override the default hidden behavior on the sphinx rendered scikit-learn.org. See: https://github.com/scikit-learn/scikit-learn/issues/21755 */display: inline-block !important;position: relative;}#sk-container-id-2 div.sk-text-repr-fallback {display: none;}</style><div id=\"sk-container-id-2\" class=\"sk-top-container\"><div class=\"sk-text-repr-fallback\"><pre>Pipeline(steps=[(&#x27;preprocessor&#x27;,\n",
       "                 Pipeline(steps=[(&#x27;preprocessor&#x27;,\n",
       "                                  ColumnTransformer(transformers=[(&#x27;num_transformer&#x27;,\n",
       "                                                                   Pipeline(steps=[(&#x27;scaler&#x27;,\n",
       "                                                                                    StandardScaler())]),\n",
       "                                                                   [&#x27;flightYear&#x27;,\n",
       "                                                                    &#x27;flightWeek&#x27;,\n",
       "                                                                    &#x27;searchGap&#x27;,\n",
       "                                                                    &#x27;departureHour&#x27;]),\n",
       "                                                                  (&#x27;cat_transformer&#x27;,\n",
       "                                                                   Pipeline(steps=[(&#x27;target_encoder&#x27;,\n",
       "                                                                                    TargetEncoder(random_state=8))]),\n",
       "                                                                   [&#x27;startingAirport&#x27;,\n",
       "                                                                    &#x27;destinationAirport&#x27;]),\n",
       "                                                                  (&#x27;enc_transformer&#x27;,\n",
       "                                                                   &#x27;passthrough&#x27;,\n",
       "                                                                   [&#x27;cabinWeight&#x27;,\n",
       "                                                                    &#x27;Delta&#x27;,\n",
       "                                                                    &#x27;JetBlue &#x27;\n",
       "                                                                    &#x27;Airways&#x27;,\n",
       "                                                                    &#x27;American &#x27;\n",
       "                                                                    &#x27;Airlines&#x27;,\n",
       "                                                                    &#x27;United&#x27;,\n",
       "                                                                    &#x27;Spirit &#x27;\n",
       "                                                                    &#x27;Airlines&#x27;,\n",
       "                                                                    &#x27;Frontier &#x27;\n",
       "                                                                    &#x27;Airlines&#x27;,\n",
       "                                                                    &#x27;Cape Air&#x27;,\n",
       "                                                                    &#x27;Alaska &#x27;\n",
       "                                                                    &#x27;Airlines&#x27;,\n",
       "                                                                    &#x27;Boutique &#x27;\n",
       "                                                                    &#x27;Air&#x27;,\n",
       "                                                                    &#x27;Key Lime &#x27;\n",
       "                                                                    &#x27;Air&#x27;,\n",
       "                                                                    &#x27;Southern &#x27;\n",
       "                                                                    &#x27;Airways &#x27;\n",
       "                                                                    &#x27;Express&#x27;,\n",
       "                                                                    &#x27;Sun &#x27;\n",
       "                                                                    &#x27;Country &#x27;\n",
       "                                                                    &#x27;Airlines&#x27;,\n",
       "                                                                    &#x27;Hawaiian &#x27;\n",
       "                                                                    &#x27;Airlines&#x27;,\n",
       "                                                                    &#x27;Contour &#x27;\n",
       "                                                                    &#x27;Airlines&#x27;])]))])),\n",
       "                (&#x27;lin&#x27;, LinearRegression())])</pre><b>In a Jupyter environment, please rerun this cell to show the HTML representation or trust the notebook. <br />On GitHub, the HTML representation is unable to render, please try loading this page with nbviewer.org.</b></div><div class=\"sk-container\" hidden><div class=\"sk-item sk-dashed-wrapped\"><div class=\"sk-label-container\"><div class=\"sk-label sk-toggleable\"><input class=\"sk-toggleable__control sk-hidden--visually\" id=\"sk-estimator-id-11\" type=\"checkbox\" ><label for=\"sk-estimator-id-11\" class=\"sk-toggleable__label sk-toggleable__label-arrow\">Pipeline</label><div class=\"sk-toggleable__content\"><pre>Pipeline(steps=[(&#x27;preprocessor&#x27;,\n",
       "                 Pipeline(steps=[(&#x27;preprocessor&#x27;,\n",
       "                                  ColumnTransformer(transformers=[(&#x27;num_transformer&#x27;,\n",
       "                                                                   Pipeline(steps=[(&#x27;scaler&#x27;,\n",
       "                                                                                    StandardScaler())]),\n",
       "                                                                   [&#x27;flightYear&#x27;,\n",
       "                                                                    &#x27;flightWeek&#x27;,\n",
       "                                                                    &#x27;searchGap&#x27;,\n",
       "                                                                    &#x27;departureHour&#x27;]),\n",
       "                                                                  (&#x27;cat_transformer&#x27;,\n",
       "                                                                   Pipeline(steps=[(&#x27;target_encoder&#x27;,\n",
       "                                                                                    TargetEncoder(random_state=8))]),\n",
       "                                                                   [&#x27;startingAirport&#x27;,\n",
       "                                                                    &#x27;destinationAirport&#x27;]),\n",
       "                                                                  (&#x27;enc_transformer&#x27;,\n",
       "                                                                   &#x27;passthrough&#x27;,\n",
       "                                                                   [&#x27;cabinWeight&#x27;,\n",
       "                                                                    &#x27;Delta&#x27;,\n",
       "                                                                    &#x27;JetBlue &#x27;\n",
       "                                                                    &#x27;Airways&#x27;,\n",
       "                                                                    &#x27;American &#x27;\n",
       "                                                                    &#x27;Airlines&#x27;,\n",
       "                                                                    &#x27;United&#x27;,\n",
       "                                                                    &#x27;Spirit &#x27;\n",
       "                                                                    &#x27;Airlines&#x27;,\n",
       "                                                                    &#x27;Frontier &#x27;\n",
       "                                                                    &#x27;Airlines&#x27;,\n",
       "                                                                    &#x27;Cape Air&#x27;,\n",
       "                                                                    &#x27;Alaska &#x27;\n",
       "                                                                    &#x27;Airlines&#x27;,\n",
       "                                                                    &#x27;Boutique &#x27;\n",
       "                                                                    &#x27;Air&#x27;,\n",
       "                                                                    &#x27;Key Lime &#x27;\n",
       "                                                                    &#x27;Air&#x27;,\n",
       "                                                                    &#x27;Southern &#x27;\n",
       "                                                                    &#x27;Airways &#x27;\n",
       "                                                                    &#x27;Express&#x27;,\n",
       "                                                                    &#x27;Sun &#x27;\n",
       "                                                                    &#x27;Country &#x27;\n",
       "                                                                    &#x27;Airlines&#x27;,\n",
       "                                                                    &#x27;Hawaiian &#x27;\n",
       "                                                                    &#x27;Airlines&#x27;,\n",
       "                                                                    &#x27;Contour &#x27;\n",
       "                                                                    &#x27;Airlines&#x27;])]))])),\n",
       "                (&#x27;lin&#x27;, LinearRegression())])</pre></div></div></div><div class=\"sk-serial\"><div class=\"sk-item\"><div class=\"sk-label-container\"><div class=\"sk-label sk-toggleable\"><input class=\"sk-toggleable__control sk-hidden--visually\" id=\"sk-estimator-id-12\" type=\"checkbox\" ><label for=\"sk-estimator-id-12\" class=\"sk-toggleable__label sk-toggleable__label-arrow\">preprocessor: Pipeline</label><div class=\"sk-toggleable__content\"><pre>Pipeline(steps=[(&#x27;preprocessor&#x27;,\n",
       "                 ColumnTransformer(transformers=[(&#x27;num_transformer&#x27;,\n",
       "                                                  Pipeline(steps=[(&#x27;scaler&#x27;,\n",
       "                                                                   StandardScaler())]),\n",
       "                                                  [&#x27;flightYear&#x27;, &#x27;flightWeek&#x27;,\n",
       "                                                   &#x27;searchGap&#x27;,\n",
       "                                                   &#x27;departureHour&#x27;]),\n",
       "                                                 (&#x27;cat_transformer&#x27;,\n",
       "                                                  Pipeline(steps=[(&#x27;target_encoder&#x27;,\n",
       "                                                                   TargetEncoder(random_state=8))]),\n",
       "                                                  [&#x27;startingAirport&#x27;,\n",
       "                                                   &#x27;destinationAirport&#x27;]),\n",
       "                                                 (&#x27;enc_transformer&#x27;,\n",
       "                                                  &#x27;passthrough&#x27;,\n",
       "                                                  [&#x27;cabinWeight&#x27;, &#x27;Delta&#x27;,\n",
       "                                                   &#x27;JetBlue Airways&#x27;,\n",
       "                                                   &#x27;American Airlines&#x27;,\n",
       "                                                   &#x27;United&#x27;, &#x27;Spirit Airlines&#x27;,\n",
       "                                                   &#x27;Frontier Airlines&#x27;,\n",
       "                                                   &#x27;Cape Air&#x27;,\n",
       "                                                   &#x27;Alaska Airlines&#x27;,\n",
       "                                                   &#x27;Boutique Air&#x27;,\n",
       "                                                   &#x27;Key Lime Air&#x27;,\n",
       "                                                   &#x27;Southern Airways Express&#x27;,\n",
       "                                                   &#x27;Sun Country Airlines&#x27;,\n",
       "                                                   &#x27;Hawaiian Airlines&#x27;,\n",
       "                                                   &#x27;Contour Airlines&#x27;])]))])</pre></div></div></div><div class=\"sk-serial\"><div class=\"sk-item sk-dashed-wrapped\"><div class=\"sk-label-container\"><div class=\"sk-label sk-toggleable\"><input class=\"sk-toggleable__control sk-hidden--visually\" id=\"sk-estimator-id-13\" type=\"checkbox\" ><label for=\"sk-estimator-id-13\" class=\"sk-toggleable__label sk-toggleable__label-arrow\">preprocessor: ColumnTransformer</label><div class=\"sk-toggleable__content\"><pre>ColumnTransformer(transformers=[(&#x27;num_transformer&#x27;,\n",
       "                                 Pipeline(steps=[(&#x27;scaler&#x27;, StandardScaler())]),\n",
       "                                 [&#x27;flightYear&#x27;, &#x27;flightWeek&#x27;, &#x27;searchGap&#x27;,\n",
       "                                  &#x27;departureHour&#x27;]),\n",
       "                                (&#x27;cat_transformer&#x27;,\n",
       "                                 Pipeline(steps=[(&#x27;target_encoder&#x27;,\n",
       "                                                  TargetEncoder(random_state=8))]),\n",
       "                                 [&#x27;startingAirport&#x27;, &#x27;destinationAirport&#x27;]),\n",
       "                                (&#x27;enc_transformer&#x27;, &#x27;passthrough&#x27;,\n",
       "                                 [&#x27;cabinWeight&#x27;, &#x27;Delta&#x27;, &#x27;JetBlue Airways&#x27;,\n",
       "                                  &#x27;American Airlines&#x27;, &#x27;United&#x27;,\n",
       "                                  &#x27;Spirit Airlines&#x27;, &#x27;Frontier Airlines&#x27;,\n",
       "                                  &#x27;Cape Air&#x27;, &#x27;Alaska Airlines&#x27;, &#x27;Boutique Air&#x27;,\n",
       "                                  &#x27;Key Lime Air&#x27;, &#x27;Southern Airways Express&#x27;,\n",
       "                                  &#x27;Sun Country Airlines&#x27;, &#x27;Hawaiian Airlines&#x27;,\n",
       "                                  &#x27;Contour Airlines&#x27;])])</pre></div></div></div><div class=\"sk-parallel\"><div class=\"sk-parallel-item\"><div class=\"sk-item\"><div class=\"sk-label-container\"><div class=\"sk-label sk-toggleable\"><input class=\"sk-toggleable__control sk-hidden--visually\" id=\"sk-estimator-id-14\" type=\"checkbox\" ><label for=\"sk-estimator-id-14\" class=\"sk-toggleable__label sk-toggleable__label-arrow\">num_transformer</label><div class=\"sk-toggleable__content\"><pre>[&#x27;flightYear&#x27;, &#x27;flightWeek&#x27;, &#x27;searchGap&#x27;, &#x27;departureHour&#x27;]</pre></div></div></div><div class=\"sk-serial\"><div class=\"sk-item\"><div class=\"sk-serial\"><div class=\"sk-item\"><div class=\"sk-estimator sk-toggleable\"><input class=\"sk-toggleable__control sk-hidden--visually\" id=\"sk-estimator-id-15\" type=\"checkbox\" ><label for=\"sk-estimator-id-15\" class=\"sk-toggleable__label sk-toggleable__label-arrow\">StandardScaler</label><div class=\"sk-toggleable__content\"><pre>StandardScaler()</pre></div></div></div></div></div></div></div></div><div class=\"sk-parallel-item\"><div class=\"sk-item\"><div class=\"sk-label-container\"><div class=\"sk-label sk-toggleable\"><input class=\"sk-toggleable__control sk-hidden--visually\" id=\"sk-estimator-id-16\" type=\"checkbox\" ><label for=\"sk-estimator-id-16\" class=\"sk-toggleable__label sk-toggleable__label-arrow\">cat_transformer</label><div class=\"sk-toggleable__content\"><pre>[&#x27;startingAirport&#x27;, &#x27;destinationAirport&#x27;]</pre></div></div></div><div class=\"sk-serial\"><div class=\"sk-item\"><div class=\"sk-serial\"><div class=\"sk-item\"><div class=\"sk-estimator sk-toggleable\"><input class=\"sk-toggleable__control sk-hidden--visually\" id=\"sk-estimator-id-17\" type=\"checkbox\" ><label for=\"sk-estimator-id-17\" class=\"sk-toggleable__label sk-toggleable__label-arrow\">TargetEncoder</label><div class=\"sk-toggleable__content\"><pre>TargetEncoder(random_state=8)</pre></div></div></div></div></div></div></div></div><div class=\"sk-parallel-item\"><div class=\"sk-item\"><div class=\"sk-label-container\"><div class=\"sk-label sk-toggleable\"><input class=\"sk-toggleable__control sk-hidden--visually\" id=\"sk-estimator-id-18\" type=\"checkbox\" ><label for=\"sk-estimator-id-18\" class=\"sk-toggleable__label sk-toggleable__label-arrow\">enc_transformer</label><div class=\"sk-toggleable__content\"><pre>[&#x27;cabinWeight&#x27;, &#x27;Delta&#x27;, &#x27;JetBlue Airways&#x27;, &#x27;American Airlines&#x27;, &#x27;United&#x27;, &#x27;Spirit Airlines&#x27;, &#x27;Frontier Airlines&#x27;, &#x27;Cape Air&#x27;, &#x27;Alaska Airlines&#x27;, &#x27;Boutique Air&#x27;, &#x27;Key Lime Air&#x27;, &#x27;Southern Airways Express&#x27;, &#x27;Sun Country Airlines&#x27;, &#x27;Hawaiian Airlines&#x27;, &#x27;Contour Airlines&#x27;]</pre></div></div></div><div class=\"sk-serial\"><div class=\"sk-item\"><div class=\"sk-estimator sk-toggleable\"><input class=\"sk-toggleable__control sk-hidden--visually\" id=\"sk-estimator-id-19\" type=\"checkbox\" ><label for=\"sk-estimator-id-19\" class=\"sk-toggleable__label sk-toggleable__label-arrow\">passthrough</label><div class=\"sk-toggleable__content\"><pre>passthrough</pre></div></div></div></div></div></div></div></div></div></div><div class=\"sk-item\"><div class=\"sk-estimator sk-toggleable\"><input class=\"sk-toggleable__control sk-hidden--visually\" id=\"sk-estimator-id-20\" type=\"checkbox\" ><label for=\"sk-estimator-id-20\" class=\"sk-toggleable__label sk-toggleable__label-arrow\">LinearRegression</label><div class=\"sk-toggleable__content\"><pre>LinearRegression()</pre></div></div></div></div></div></div></div>"
      ],
      "text/plain": [
       "Pipeline(steps=[('preprocessor',\n",
       "                 Pipeline(steps=[('preprocessor',\n",
       "                                  ColumnTransformer(transformers=[('num_transformer',\n",
       "                                                                   Pipeline(steps=[('scaler',\n",
       "                                                                                    StandardScaler())]),\n",
       "                                                                   ['flightYear',\n",
       "                                                                    'flightWeek',\n",
       "                                                                    'searchGap',\n",
       "                                                                    'departureHour']),\n",
       "                                                                  ('cat_transformer',\n",
       "                                                                   Pipeline(steps=[('target_encoder',\n",
       "                                                                                    TargetEncoder(random_state=8))]),\n",
       "                                                                   ['startingAirport',\n",
       "                                                                    'destinationAirport']),\n",
       "                                                                  ('enc_transformer',\n",
       "                                                                   'passthrough',\n",
       "                                                                   ['cabinWeight',\n",
       "                                                                    'Delta',\n",
       "                                                                    'JetBlue '\n",
       "                                                                    'Airways',\n",
       "                                                                    'American '\n",
       "                                                                    'Airlines',\n",
       "                                                                    'United',\n",
       "                                                                    'Spirit '\n",
       "                                                                    'Airlines',\n",
       "                                                                    'Frontier '\n",
       "                                                                    'Airlines',\n",
       "                                                                    'Cape Air',\n",
       "                                                                    'Alaska '\n",
       "                                                                    'Airlines',\n",
       "                                                                    'Boutique '\n",
       "                                                                    'Air',\n",
       "                                                                    'Key Lime '\n",
       "                                                                    'Air',\n",
       "                                                                    'Southern '\n",
       "                                                                    'Airways '\n",
       "                                                                    'Express',\n",
       "                                                                    'Sun '\n",
       "                                                                    'Country '\n",
       "                                                                    'Airlines',\n",
       "                                                                    'Hawaiian '\n",
       "                                                                    'Airlines',\n",
       "                                                                    'Contour '\n",
       "                                                                    'Airlines'])]))])),\n",
       "                ('lin', LinearRegression())])"
      ]
     },
     "execution_count": 25,
     "metadata": {},
     "output_type": "execute_result"
    }
   ],
   "source": [
    "lin_pipe.fit(X_train, y_train)"
   ]
  },
  {
   "cell_type": "code",
   "execution_count": 26,
   "id": "7052295b-a43f-4ebe-9f1e-e494ac93f2d3",
   "metadata": {
    "tags": []
   },
   "outputs": [],
   "source": [
    "lin_train_preds = lin_pipe.predict(X_train)"
   ]
  },
  {
   "cell_type": "code",
   "execution_count": 27,
   "id": "08283840-2a79-4a9f-9068-8f1da2c12892",
   "metadata": {
    "tags": []
   },
   "outputs": [],
   "source": [
    "lin_val_preds = lin_pipe.predict(X_val)"
   ]
  },
  {
   "cell_type": "code",
   "execution_count": null,
   "id": "9cb48d2a-b81c-4cfc-8275-eeaf842dff49",
   "metadata": {},
   "outputs": [],
   "source": [
    "dump(lin_pipe, '../models/airline_lin_pipe.joblib')"
   ]
  },
  {
   "cell_type": "markdown",
   "id": "30d1c022-4ed9-468b-9f03-72220acd1d0e",
   "metadata": {},
   "source": [
    "Defining a function to evaluate the performance of the models on training and validation datasets. We will store this function in a python file for future use."
   ]
  },
  {
   "cell_type": "code",
   "execution_count": 18,
   "id": "0bd9fd9c-1c81-4383-9f50-2aebd30fab9c",
   "metadata": {
    "tags": []
   },
   "outputs": [],
   "source": [
    "def evaluate_model(y_train, train_preds, y_val, val_preds):\n",
    "    \n",
    "    print('The Mean Absolute Error for training set is ', mean_absolute_error(y_train, train_preds))\n",
    "    print('The Mean Absolute Error for validation set is ', mean_absolute_error(y_val, val_preds))\n",
    "    \n",
    "    print('The Root Mean Squared Error for training set is ', mean_squared_error(y_train, train_preds, squared=False))\n",
    "    print('The Root Mean Squared Error for validation set is ', mean_squared_error(y_val, val_preds, squared=False))"
   ]
  },
  {
   "cell_type": "code",
   "execution_count": 28,
   "id": "59c86b21-fb5f-4d04-8b56-3555061fe774",
   "metadata": {
    "tags": []
   },
   "outputs": [
    {
     "name": "stdout",
     "output_type": "stream",
     "text": [
      "The Mean Absolute Error for training set is  109.12674880583604\n",
      "The Mean Absolute Error for validation set is  113.63530710742256\n",
      "The Root Mean Squared Error for training set is  161.9104771213932\n",
      "The Root Mean Squared Error for validation set is  157.83134182242787\n"
     ]
    }
   ],
   "source": [
    "evaluate_model(y_train, lin_train_preds, y_val, lin_val_preds)"
   ]
  },
  {
   "cell_type": "markdown",
   "id": "d366fa13-5f27-42d5-b90d-c139907d3fab",
   "metadata": {},
   "source": [
    "Linear Regression seems to be performing slightly better than the base model. Let us check if other models are able to provide better results."
   ]
  },
  {
   "cell_type": "markdown",
   "id": "839b17a0-5415-4539-917c-f965366d7647",
   "metadata": {},
   "source": [
    "## Random Forest"
   ]
  },
  {
   "cell_type": "code",
   "execution_count": 11,
   "id": "c326c16c-21d9-4ec5-b9cf-9d50c6660c4e",
   "metadata": {
    "tags": []
   },
   "outputs": [],
   "source": [
    "from sklearn.ensemble import RandomForestRegressor"
   ]
  },
  {
   "cell_type": "code",
   "execution_count": 12,
   "id": "15291479-f1b8-42c4-9be5-16f1158e1ba4",
   "metadata": {
    "tags": []
   },
   "outputs": [],
   "source": [
    "rf_pipe = Pipeline(\n",
    "    steps=[\n",
    "        ('preprocessor', preprocessor_pipe),\n",
    "        ('rf', RandomForestRegressor(random_state=8, n_estimators=50, max_depth=8, min_samples_leaf=3))\n",
    "    ]\n",
    ")"
   ]
  },
  {
   "cell_type": "code",
   "execution_count": 13,
   "id": "a31ba675-5ec3-455f-afb5-39374866c6db",
   "metadata": {
    "tags": []
   },
   "outputs": [
    {
     "data": {
      "text/html": [
       "<style>#sk-container-id-1 {color: black;}#sk-container-id-1 pre{padding: 0;}#sk-container-id-1 div.sk-toggleable {background-color: white;}#sk-container-id-1 label.sk-toggleable__label {cursor: pointer;display: block;width: 100%;margin-bottom: 0;padding: 0.3em;box-sizing: border-box;text-align: center;}#sk-container-id-1 label.sk-toggleable__label-arrow:before {content: \"▸\";float: left;margin-right: 0.25em;color: #696969;}#sk-container-id-1 label.sk-toggleable__label-arrow:hover:before {color: black;}#sk-container-id-1 div.sk-estimator:hover label.sk-toggleable__label-arrow:before {color: black;}#sk-container-id-1 div.sk-toggleable__content {max-height: 0;max-width: 0;overflow: hidden;text-align: left;background-color: #f0f8ff;}#sk-container-id-1 div.sk-toggleable__content pre {margin: 0.2em;color: black;border-radius: 0.25em;background-color: #f0f8ff;}#sk-container-id-1 input.sk-toggleable__control:checked~div.sk-toggleable__content {max-height: 200px;max-width: 100%;overflow: auto;}#sk-container-id-1 input.sk-toggleable__control:checked~label.sk-toggleable__label-arrow:before {content: \"▾\";}#sk-container-id-1 div.sk-estimator input.sk-toggleable__control:checked~label.sk-toggleable__label {background-color: #d4ebff;}#sk-container-id-1 div.sk-label input.sk-toggleable__control:checked~label.sk-toggleable__label {background-color: #d4ebff;}#sk-container-id-1 input.sk-hidden--visually {border: 0;clip: rect(1px 1px 1px 1px);clip: rect(1px, 1px, 1px, 1px);height: 1px;margin: -1px;overflow: hidden;padding: 0;position: absolute;width: 1px;}#sk-container-id-1 div.sk-estimator {font-family: monospace;background-color: #f0f8ff;border: 1px dotted black;border-radius: 0.25em;box-sizing: border-box;margin-bottom: 0.5em;}#sk-container-id-1 div.sk-estimator:hover {background-color: #d4ebff;}#sk-container-id-1 div.sk-parallel-item::after {content: \"\";width: 100%;border-bottom: 1px solid gray;flex-grow: 1;}#sk-container-id-1 div.sk-label:hover label.sk-toggleable__label {background-color: #d4ebff;}#sk-container-id-1 div.sk-serial::before {content: \"\";position: absolute;border-left: 1px solid gray;box-sizing: border-box;top: 0;bottom: 0;left: 50%;z-index: 0;}#sk-container-id-1 div.sk-serial {display: flex;flex-direction: column;align-items: center;background-color: white;padding-right: 0.2em;padding-left: 0.2em;position: relative;}#sk-container-id-1 div.sk-item {position: relative;z-index: 1;}#sk-container-id-1 div.sk-parallel {display: flex;align-items: stretch;justify-content: center;background-color: white;position: relative;}#sk-container-id-1 div.sk-item::before, #sk-container-id-1 div.sk-parallel-item::before {content: \"\";position: absolute;border-left: 1px solid gray;box-sizing: border-box;top: 0;bottom: 0;left: 50%;z-index: -1;}#sk-container-id-1 div.sk-parallel-item {display: flex;flex-direction: column;z-index: 1;position: relative;background-color: white;}#sk-container-id-1 div.sk-parallel-item:first-child::after {align-self: flex-end;width: 50%;}#sk-container-id-1 div.sk-parallel-item:last-child::after {align-self: flex-start;width: 50%;}#sk-container-id-1 div.sk-parallel-item:only-child::after {width: 0;}#sk-container-id-1 div.sk-dashed-wrapped {border: 1px dashed gray;margin: 0 0.4em 0.5em 0.4em;box-sizing: border-box;padding-bottom: 0.4em;background-color: white;}#sk-container-id-1 div.sk-label label {font-family: monospace;font-weight: bold;display: inline-block;line-height: 1.2em;}#sk-container-id-1 div.sk-label-container {text-align: center;}#sk-container-id-1 div.sk-container {/* jupyter's `normalize.less` sets `[hidden] { display: none; }` but bootstrap.min.css set `[hidden] { display: none !important; }` so we also need the `!important` here to be able to override the default hidden behavior on the sphinx rendered scikit-learn.org. See: https://github.com/scikit-learn/scikit-learn/issues/21755 */display: inline-block !important;position: relative;}#sk-container-id-1 div.sk-text-repr-fallback {display: none;}</style><div id=\"sk-container-id-1\" class=\"sk-top-container\"><div class=\"sk-text-repr-fallback\"><pre>Pipeline(steps=[(&#x27;preprocessor&#x27;,\n",
       "                 Pipeline(steps=[(&#x27;preprocessor&#x27;,\n",
       "                                  ColumnTransformer(transformers=[(&#x27;num_transformer&#x27;,\n",
       "                                                                   Pipeline(steps=[(&#x27;scaler&#x27;,\n",
       "                                                                                    StandardScaler())]),\n",
       "                                                                   [&#x27;flightYear&#x27;,\n",
       "                                                                    &#x27;flightWeek&#x27;,\n",
       "                                                                    &#x27;searchGap&#x27;,\n",
       "                                                                    &#x27;departureHour&#x27;]),\n",
       "                                                                  (&#x27;cat_transformer&#x27;,\n",
       "                                                                   Pipeline(steps=[(&#x27;target_encoder&#x27;,\n",
       "                                                                                    TargetEncoder(random_state=8))]),\n",
       "                                                                   [&#x27;startingAirport&#x27;,\n",
       "                                                                    &#x27;destinationAirport&#x27;]),\n",
       "                                                                  (&#x27;en...\n",
       "                                                                    &#x27;Delta&#x27;,\n",
       "                                                                    &#x27;JetBlue &#x27;\n",
       "                                                                    &#x27;Airways&#x27;,\n",
       "                                                                    &#x27;American &#x27;\n",
       "                                                                    &#x27;Airlines&#x27;,\n",
       "                                                                    &#x27;United&#x27;,\n",
       "                                                                    &#x27;Spirit &#x27;\n",
       "                                                                    &#x27;Airlines&#x27;,\n",
       "                                                                    &#x27;Frontier &#x27;\n",
       "                                                                    &#x27;Airlines&#x27;,\n",
       "                                                                    &#x27;Cape Air&#x27;,\n",
       "                                                                    &#x27;Alaska &#x27;\n",
       "                                                                    &#x27;Airlines&#x27;,\n",
       "                                                                    &#x27;Boutique &#x27;\n",
       "                                                                    &#x27;Air&#x27;,\n",
       "                                                                    &#x27;Key Lime &#x27;\n",
       "                                                                    &#x27;Air&#x27;,\n",
       "                                                                    &#x27;Southern &#x27;\n",
       "                                                                    &#x27;Airways &#x27;\n",
       "                                                                    &#x27;Express&#x27;,\n",
       "                                                                    &#x27;Sun &#x27;\n",
       "                                                                    &#x27;Country &#x27;\n",
       "                                                                    &#x27;Airlines&#x27;,\n",
       "                                                                    &#x27;Hawaiian &#x27;\n",
       "                                                                    &#x27;Airlines&#x27;,\n",
       "                                                                    &#x27;Contour &#x27;\n",
       "                                                                    &#x27;Airlines&#x27;])]))])),\n",
       "                (&#x27;rf&#x27;,\n",
       "                 RandomForestRegressor(max_depth=8, min_samples_leaf=3,\n",
       "                                       n_estimators=50, random_state=8))])</pre><b>In a Jupyter environment, please rerun this cell to show the HTML representation or trust the notebook. <br />On GitHub, the HTML representation is unable to render, please try loading this page with nbviewer.org.</b></div><div class=\"sk-container\" hidden><div class=\"sk-item sk-dashed-wrapped\"><div class=\"sk-label-container\"><div class=\"sk-label sk-toggleable\"><input class=\"sk-toggleable__control sk-hidden--visually\" id=\"sk-estimator-id-1\" type=\"checkbox\" ><label for=\"sk-estimator-id-1\" class=\"sk-toggleable__label sk-toggleable__label-arrow\">Pipeline</label><div class=\"sk-toggleable__content\"><pre>Pipeline(steps=[(&#x27;preprocessor&#x27;,\n",
       "                 Pipeline(steps=[(&#x27;preprocessor&#x27;,\n",
       "                                  ColumnTransformer(transformers=[(&#x27;num_transformer&#x27;,\n",
       "                                                                   Pipeline(steps=[(&#x27;scaler&#x27;,\n",
       "                                                                                    StandardScaler())]),\n",
       "                                                                   [&#x27;flightYear&#x27;,\n",
       "                                                                    &#x27;flightWeek&#x27;,\n",
       "                                                                    &#x27;searchGap&#x27;,\n",
       "                                                                    &#x27;departureHour&#x27;]),\n",
       "                                                                  (&#x27;cat_transformer&#x27;,\n",
       "                                                                   Pipeline(steps=[(&#x27;target_encoder&#x27;,\n",
       "                                                                                    TargetEncoder(random_state=8))]),\n",
       "                                                                   [&#x27;startingAirport&#x27;,\n",
       "                                                                    &#x27;destinationAirport&#x27;]),\n",
       "                                                                  (&#x27;en...\n",
       "                                                                    &#x27;Delta&#x27;,\n",
       "                                                                    &#x27;JetBlue &#x27;\n",
       "                                                                    &#x27;Airways&#x27;,\n",
       "                                                                    &#x27;American &#x27;\n",
       "                                                                    &#x27;Airlines&#x27;,\n",
       "                                                                    &#x27;United&#x27;,\n",
       "                                                                    &#x27;Spirit &#x27;\n",
       "                                                                    &#x27;Airlines&#x27;,\n",
       "                                                                    &#x27;Frontier &#x27;\n",
       "                                                                    &#x27;Airlines&#x27;,\n",
       "                                                                    &#x27;Cape Air&#x27;,\n",
       "                                                                    &#x27;Alaska &#x27;\n",
       "                                                                    &#x27;Airlines&#x27;,\n",
       "                                                                    &#x27;Boutique &#x27;\n",
       "                                                                    &#x27;Air&#x27;,\n",
       "                                                                    &#x27;Key Lime &#x27;\n",
       "                                                                    &#x27;Air&#x27;,\n",
       "                                                                    &#x27;Southern &#x27;\n",
       "                                                                    &#x27;Airways &#x27;\n",
       "                                                                    &#x27;Express&#x27;,\n",
       "                                                                    &#x27;Sun &#x27;\n",
       "                                                                    &#x27;Country &#x27;\n",
       "                                                                    &#x27;Airlines&#x27;,\n",
       "                                                                    &#x27;Hawaiian &#x27;\n",
       "                                                                    &#x27;Airlines&#x27;,\n",
       "                                                                    &#x27;Contour &#x27;\n",
       "                                                                    &#x27;Airlines&#x27;])]))])),\n",
       "                (&#x27;rf&#x27;,\n",
       "                 RandomForestRegressor(max_depth=8, min_samples_leaf=3,\n",
       "                                       n_estimators=50, random_state=8))])</pre></div></div></div><div class=\"sk-serial\"><div class=\"sk-item\"><div class=\"sk-label-container\"><div class=\"sk-label sk-toggleable\"><input class=\"sk-toggleable__control sk-hidden--visually\" id=\"sk-estimator-id-2\" type=\"checkbox\" ><label for=\"sk-estimator-id-2\" class=\"sk-toggleable__label sk-toggleable__label-arrow\">preprocessor: Pipeline</label><div class=\"sk-toggleable__content\"><pre>Pipeline(steps=[(&#x27;preprocessor&#x27;,\n",
       "                 ColumnTransformer(transformers=[(&#x27;num_transformer&#x27;,\n",
       "                                                  Pipeline(steps=[(&#x27;scaler&#x27;,\n",
       "                                                                   StandardScaler())]),\n",
       "                                                  [&#x27;flightYear&#x27;, &#x27;flightWeek&#x27;,\n",
       "                                                   &#x27;searchGap&#x27;,\n",
       "                                                   &#x27;departureHour&#x27;]),\n",
       "                                                 (&#x27;cat_transformer&#x27;,\n",
       "                                                  Pipeline(steps=[(&#x27;target_encoder&#x27;,\n",
       "                                                                   TargetEncoder(random_state=8))]),\n",
       "                                                  [&#x27;startingAirport&#x27;,\n",
       "                                                   &#x27;destinationAirport&#x27;]),\n",
       "                                                 (&#x27;enc_transformer&#x27;,\n",
       "                                                  &#x27;passthrough&#x27;,\n",
       "                                                  [&#x27;cabinWeight&#x27;, &#x27;Delta&#x27;,\n",
       "                                                   &#x27;JetBlue Airways&#x27;,\n",
       "                                                   &#x27;American Airlines&#x27;,\n",
       "                                                   &#x27;United&#x27;, &#x27;Spirit Airlines&#x27;,\n",
       "                                                   &#x27;Frontier Airlines&#x27;,\n",
       "                                                   &#x27;Cape Air&#x27;,\n",
       "                                                   &#x27;Alaska Airlines&#x27;,\n",
       "                                                   &#x27;Boutique Air&#x27;,\n",
       "                                                   &#x27;Key Lime Air&#x27;,\n",
       "                                                   &#x27;Southern Airways Express&#x27;,\n",
       "                                                   &#x27;Sun Country Airlines&#x27;,\n",
       "                                                   &#x27;Hawaiian Airlines&#x27;,\n",
       "                                                   &#x27;Contour Airlines&#x27;])]))])</pre></div></div></div><div class=\"sk-serial\"><div class=\"sk-item sk-dashed-wrapped\"><div class=\"sk-label-container\"><div class=\"sk-label sk-toggleable\"><input class=\"sk-toggleable__control sk-hidden--visually\" id=\"sk-estimator-id-3\" type=\"checkbox\" ><label for=\"sk-estimator-id-3\" class=\"sk-toggleable__label sk-toggleable__label-arrow\">preprocessor: ColumnTransformer</label><div class=\"sk-toggleable__content\"><pre>ColumnTransformer(transformers=[(&#x27;num_transformer&#x27;,\n",
       "                                 Pipeline(steps=[(&#x27;scaler&#x27;, StandardScaler())]),\n",
       "                                 [&#x27;flightYear&#x27;, &#x27;flightWeek&#x27;, &#x27;searchGap&#x27;,\n",
       "                                  &#x27;departureHour&#x27;]),\n",
       "                                (&#x27;cat_transformer&#x27;,\n",
       "                                 Pipeline(steps=[(&#x27;target_encoder&#x27;,\n",
       "                                                  TargetEncoder(random_state=8))]),\n",
       "                                 [&#x27;startingAirport&#x27;, &#x27;destinationAirport&#x27;]),\n",
       "                                (&#x27;enc_transformer&#x27;, &#x27;passthrough&#x27;,\n",
       "                                 [&#x27;cabinWeight&#x27;, &#x27;Delta&#x27;, &#x27;JetBlue Airways&#x27;,\n",
       "                                  &#x27;American Airlines&#x27;, &#x27;United&#x27;,\n",
       "                                  &#x27;Spirit Airlines&#x27;, &#x27;Frontier Airlines&#x27;,\n",
       "                                  &#x27;Cape Air&#x27;, &#x27;Alaska Airlines&#x27;, &#x27;Boutique Air&#x27;,\n",
       "                                  &#x27;Key Lime Air&#x27;, &#x27;Southern Airways Express&#x27;,\n",
       "                                  &#x27;Sun Country Airlines&#x27;, &#x27;Hawaiian Airlines&#x27;,\n",
       "                                  &#x27;Contour Airlines&#x27;])])</pre></div></div></div><div class=\"sk-parallel\"><div class=\"sk-parallel-item\"><div class=\"sk-item\"><div class=\"sk-label-container\"><div class=\"sk-label sk-toggleable\"><input class=\"sk-toggleable__control sk-hidden--visually\" id=\"sk-estimator-id-4\" type=\"checkbox\" ><label for=\"sk-estimator-id-4\" class=\"sk-toggleable__label sk-toggleable__label-arrow\">num_transformer</label><div class=\"sk-toggleable__content\"><pre>[&#x27;flightYear&#x27;, &#x27;flightWeek&#x27;, &#x27;searchGap&#x27;, &#x27;departureHour&#x27;]</pre></div></div></div><div class=\"sk-serial\"><div class=\"sk-item\"><div class=\"sk-serial\"><div class=\"sk-item\"><div class=\"sk-estimator sk-toggleable\"><input class=\"sk-toggleable__control sk-hidden--visually\" id=\"sk-estimator-id-5\" type=\"checkbox\" ><label for=\"sk-estimator-id-5\" class=\"sk-toggleable__label sk-toggleable__label-arrow\">StandardScaler</label><div class=\"sk-toggleable__content\"><pre>StandardScaler()</pre></div></div></div></div></div></div></div></div><div class=\"sk-parallel-item\"><div class=\"sk-item\"><div class=\"sk-label-container\"><div class=\"sk-label sk-toggleable\"><input class=\"sk-toggleable__control sk-hidden--visually\" id=\"sk-estimator-id-6\" type=\"checkbox\" ><label for=\"sk-estimator-id-6\" class=\"sk-toggleable__label sk-toggleable__label-arrow\">cat_transformer</label><div class=\"sk-toggleable__content\"><pre>[&#x27;startingAirport&#x27;, &#x27;destinationAirport&#x27;]</pre></div></div></div><div class=\"sk-serial\"><div class=\"sk-item\"><div class=\"sk-serial\"><div class=\"sk-item\"><div class=\"sk-estimator sk-toggleable\"><input class=\"sk-toggleable__control sk-hidden--visually\" id=\"sk-estimator-id-7\" type=\"checkbox\" ><label for=\"sk-estimator-id-7\" class=\"sk-toggleable__label sk-toggleable__label-arrow\">TargetEncoder</label><div class=\"sk-toggleable__content\"><pre>TargetEncoder(random_state=8)</pre></div></div></div></div></div></div></div></div><div class=\"sk-parallel-item\"><div class=\"sk-item\"><div class=\"sk-label-container\"><div class=\"sk-label sk-toggleable\"><input class=\"sk-toggleable__control sk-hidden--visually\" id=\"sk-estimator-id-8\" type=\"checkbox\" ><label for=\"sk-estimator-id-8\" class=\"sk-toggleable__label sk-toggleable__label-arrow\">enc_transformer</label><div class=\"sk-toggleable__content\"><pre>[&#x27;cabinWeight&#x27;, &#x27;Delta&#x27;, &#x27;JetBlue Airways&#x27;, &#x27;American Airlines&#x27;, &#x27;United&#x27;, &#x27;Spirit Airlines&#x27;, &#x27;Frontier Airlines&#x27;, &#x27;Cape Air&#x27;, &#x27;Alaska Airlines&#x27;, &#x27;Boutique Air&#x27;, &#x27;Key Lime Air&#x27;, &#x27;Southern Airways Express&#x27;, &#x27;Sun Country Airlines&#x27;, &#x27;Hawaiian Airlines&#x27;, &#x27;Contour Airlines&#x27;]</pre></div></div></div><div class=\"sk-serial\"><div class=\"sk-item\"><div class=\"sk-estimator sk-toggleable\"><input class=\"sk-toggleable__control sk-hidden--visually\" id=\"sk-estimator-id-9\" type=\"checkbox\" ><label for=\"sk-estimator-id-9\" class=\"sk-toggleable__label sk-toggleable__label-arrow\">passthrough</label><div class=\"sk-toggleable__content\"><pre>passthrough</pre></div></div></div></div></div></div></div></div></div></div><div class=\"sk-item\"><div class=\"sk-estimator sk-toggleable\"><input class=\"sk-toggleable__control sk-hidden--visually\" id=\"sk-estimator-id-10\" type=\"checkbox\" ><label for=\"sk-estimator-id-10\" class=\"sk-toggleable__label sk-toggleable__label-arrow\">RandomForestRegressor</label><div class=\"sk-toggleable__content\"><pre>RandomForestRegressor(max_depth=8, min_samples_leaf=3, n_estimators=50,\n",
       "                      random_state=8)</pre></div></div></div></div></div></div></div>"
      ],
      "text/plain": [
       "Pipeline(steps=[('preprocessor',\n",
       "                 Pipeline(steps=[('preprocessor',\n",
       "                                  ColumnTransformer(transformers=[('num_transformer',\n",
       "                                                                   Pipeline(steps=[('scaler',\n",
       "                                                                                    StandardScaler())]),\n",
       "                                                                   ['flightYear',\n",
       "                                                                    'flightWeek',\n",
       "                                                                    'searchGap',\n",
       "                                                                    'departureHour']),\n",
       "                                                                  ('cat_transformer',\n",
       "                                                                   Pipeline(steps=[('target_encoder',\n",
       "                                                                                    TargetEncoder(random_state=8))]),\n",
       "                                                                   ['startingAirport',\n",
       "                                                                    'destinationAirport']),\n",
       "                                                                  ('en...\n",
       "                                                                    'Delta',\n",
       "                                                                    'JetBlue '\n",
       "                                                                    'Airways',\n",
       "                                                                    'American '\n",
       "                                                                    'Airlines',\n",
       "                                                                    'United',\n",
       "                                                                    'Spirit '\n",
       "                                                                    'Airlines',\n",
       "                                                                    'Frontier '\n",
       "                                                                    'Airlines',\n",
       "                                                                    'Cape Air',\n",
       "                                                                    'Alaska '\n",
       "                                                                    'Airlines',\n",
       "                                                                    'Boutique '\n",
       "                                                                    'Air',\n",
       "                                                                    'Key Lime '\n",
       "                                                                    'Air',\n",
       "                                                                    'Southern '\n",
       "                                                                    'Airways '\n",
       "                                                                    'Express',\n",
       "                                                                    'Sun '\n",
       "                                                                    'Country '\n",
       "                                                                    'Airlines',\n",
       "                                                                    'Hawaiian '\n",
       "                                                                    'Airlines',\n",
       "                                                                    'Contour '\n",
       "                                                                    'Airlines'])]))])),\n",
       "                ('rf',\n",
       "                 RandomForestRegressor(max_depth=8, min_samples_leaf=3,\n",
       "                                       n_estimators=50, random_state=8))])"
      ]
     },
     "execution_count": 13,
     "metadata": {},
     "output_type": "execute_result"
    }
   ],
   "source": [
    "rf_pipe.fit(X_train, y_train)"
   ]
  },
  {
   "cell_type": "code",
   "execution_count": 14,
   "id": "ee72034e-50a0-454f-826d-9f1d864fcbec",
   "metadata": {
    "tags": []
   },
   "outputs": [],
   "source": [
    "rf_train_preds = rf_pipe.predict(X_train)"
   ]
  },
  {
   "cell_type": "code",
   "execution_count": 15,
   "id": "75afe7cc-598f-43cf-85b3-a0e289e97503",
   "metadata": {
    "tags": []
   },
   "outputs": [],
   "source": [
    "rf_val_preds = rf_pipe.predict(X_val)"
   ]
  },
  {
   "cell_type": "code",
   "execution_count": 20,
   "id": "b87a2db1-e901-494f-8a1d-b4a1625ed598",
   "metadata": {
    "tags": []
   },
   "outputs": [
    {
     "name": "stdout",
     "output_type": "stream",
     "text": [
      "The Mean Absolute Error for training set is  95.90274390914483\n",
      "The Mean Absolute Error for validation set is  101.82217483899977\n",
      "The Root Mean Squared Error for training set is  137.06767457696677\n",
      "The Root Mean Squared Error for validation set is  142.03601047932096\n"
     ]
    }
   ],
   "source": [
    "evaluate_model(y_train, rf_train_preds, y_val, rf_val_preds)"
   ]
  },
  {
   "cell_type": "code",
   "execution_count": 29,
   "id": "c09c3946-721c-4568-926f-9c1aef580b2b",
   "metadata": {},
   "outputs": [
    {
     "data": {
      "text/plain": [
       "['../models/airline_rf_pipe.joblib']"
      ]
     },
     "execution_count": 29,
     "metadata": {},
     "output_type": "execute_result"
    }
   ],
   "source": [
    "dump(rf_pipe, '../models/airline_rf_pipe.joblib')"
   ]
  },
  {
   "cell_type": "markdown",
   "id": "bd8aa4b7-a92f-4808-8b82-d0bb3ea8e5eb",
   "metadata": {},
   "source": [
    "## Gradient Boost"
   ]
  },
  {
   "cell_type": "code",
   "execution_count": 12,
   "id": "53cb0359-1a08-4088-a784-8928b44fcf23",
   "metadata": {},
   "outputs": [],
   "source": [
    "from sklearn.ensemble import GradientBoostingRegressor"
   ]
  },
  {
   "cell_type": "code",
   "execution_count": 13,
   "id": "2ae2920b-48ed-4fba-9724-346bd846b8b0",
   "metadata": {
    "tags": []
   },
   "outputs": [],
   "source": [
    "gb_pipe = Pipeline(\n",
    "    steps=[\n",
    "        ('preprocessor', preprocessor_pipe),\n",
    "        ('gb', GradientBoostingRegressor(random_state=8, n_estimators=50, max_depth=8, min_samples_leaf=3))\n",
    "    ]\n",
    ")"
   ]
  },
  {
   "cell_type": "code",
   "execution_count": 14,
   "id": "683c2841-2a6e-4ed5-91b9-a79e64f58728",
   "metadata": {
    "tags": []
   },
   "outputs": [
    {
     "data": {
      "text/html": [
       "<style>#sk-container-id-1 {color: black;}#sk-container-id-1 pre{padding: 0;}#sk-container-id-1 div.sk-toggleable {background-color: white;}#sk-container-id-1 label.sk-toggleable__label {cursor: pointer;display: block;width: 100%;margin-bottom: 0;padding: 0.3em;box-sizing: border-box;text-align: center;}#sk-container-id-1 label.sk-toggleable__label-arrow:before {content: \"▸\";float: left;margin-right: 0.25em;color: #696969;}#sk-container-id-1 label.sk-toggleable__label-arrow:hover:before {color: black;}#sk-container-id-1 div.sk-estimator:hover label.sk-toggleable__label-arrow:before {color: black;}#sk-container-id-1 div.sk-toggleable__content {max-height: 0;max-width: 0;overflow: hidden;text-align: left;background-color: #f0f8ff;}#sk-container-id-1 div.sk-toggleable__content pre {margin: 0.2em;color: black;border-radius: 0.25em;background-color: #f0f8ff;}#sk-container-id-1 input.sk-toggleable__control:checked~div.sk-toggleable__content {max-height: 200px;max-width: 100%;overflow: auto;}#sk-container-id-1 input.sk-toggleable__control:checked~label.sk-toggleable__label-arrow:before {content: \"▾\";}#sk-container-id-1 div.sk-estimator input.sk-toggleable__control:checked~label.sk-toggleable__label {background-color: #d4ebff;}#sk-container-id-1 div.sk-label input.sk-toggleable__control:checked~label.sk-toggleable__label {background-color: #d4ebff;}#sk-container-id-1 input.sk-hidden--visually {border: 0;clip: rect(1px 1px 1px 1px);clip: rect(1px, 1px, 1px, 1px);height: 1px;margin: -1px;overflow: hidden;padding: 0;position: absolute;width: 1px;}#sk-container-id-1 div.sk-estimator {font-family: monospace;background-color: #f0f8ff;border: 1px dotted black;border-radius: 0.25em;box-sizing: border-box;margin-bottom: 0.5em;}#sk-container-id-1 div.sk-estimator:hover {background-color: #d4ebff;}#sk-container-id-1 div.sk-parallel-item::after {content: \"\";width: 100%;border-bottom: 1px solid gray;flex-grow: 1;}#sk-container-id-1 div.sk-label:hover label.sk-toggleable__label {background-color: #d4ebff;}#sk-container-id-1 div.sk-serial::before {content: \"\";position: absolute;border-left: 1px solid gray;box-sizing: border-box;top: 0;bottom: 0;left: 50%;z-index: 0;}#sk-container-id-1 div.sk-serial {display: flex;flex-direction: column;align-items: center;background-color: white;padding-right: 0.2em;padding-left: 0.2em;position: relative;}#sk-container-id-1 div.sk-item {position: relative;z-index: 1;}#sk-container-id-1 div.sk-parallel {display: flex;align-items: stretch;justify-content: center;background-color: white;position: relative;}#sk-container-id-1 div.sk-item::before, #sk-container-id-1 div.sk-parallel-item::before {content: \"\";position: absolute;border-left: 1px solid gray;box-sizing: border-box;top: 0;bottom: 0;left: 50%;z-index: -1;}#sk-container-id-1 div.sk-parallel-item {display: flex;flex-direction: column;z-index: 1;position: relative;background-color: white;}#sk-container-id-1 div.sk-parallel-item:first-child::after {align-self: flex-end;width: 50%;}#sk-container-id-1 div.sk-parallel-item:last-child::after {align-self: flex-start;width: 50%;}#sk-container-id-1 div.sk-parallel-item:only-child::after {width: 0;}#sk-container-id-1 div.sk-dashed-wrapped {border: 1px dashed gray;margin: 0 0.4em 0.5em 0.4em;box-sizing: border-box;padding-bottom: 0.4em;background-color: white;}#sk-container-id-1 div.sk-label label {font-family: monospace;font-weight: bold;display: inline-block;line-height: 1.2em;}#sk-container-id-1 div.sk-label-container {text-align: center;}#sk-container-id-1 div.sk-container {/* jupyter's `normalize.less` sets `[hidden] { display: none; }` but bootstrap.min.css set `[hidden] { display: none !important; }` so we also need the `!important` here to be able to override the default hidden behavior on the sphinx rendered scikit-learn.org. See: https://github.com/scikit-learn/scikit-learn/issues/21755 */display: inline-block !important;position: relative;}#sk-container-id-1 div.sk-text-repr-fallback {display: none;}</style><div id=\"sk-container-id-1\" class=\"sk-top-container\"><div class=\"sk-text-repr-fallback\"><pre>Pipeline(steps=[(&#x27;preprocessor&#x27;,\n",
       "                 Pipeline(steps=[(&#x27;preprocessor&#x27;,\n",
       "                                  ColumnTransformer(transformers=[(&#x27;num_transformer&#x27;,\n",
       "                                                                   Pipeline(steps=[(&#x27;scaler&#x27;,\n",
       "                                                                                    StandardScaler())]),\n",
       "                                                                   [&#x27;flightYear&#x27;,\n",
       "                                                                    &#x27;flightWeek&#x27;,\n",
       "                                                                    &#x27;searchGap&#x27;,\n",
       "                                                                    &#x27;departureHour&#x27;]),\n",
       "                                                                  (&#x27;cat_transformer&#x27;,\n",
       "                                                                   Pipeline(steps=[(&#x27;target_encoder&#x27;,\n",
       "                                                                                    TargetEncoder(random_state=8))]),\n",
       "                                                                   [&#x27;startingAirport&#x27;,\n",
       "                                                                    &#x27;destinationAirport&#x27;]),\n",
       "                                                                  (&#x27;en...\n",
       "                                                                    &#x27;Delta&#x27;,\n",
       "                                                                    &#x27;JetBlue &#x27;\n",
       "                                                                    &#x27;Airways&#x27;,\n",
       "                                                                    &#x27;American &#x27;\n",
       "                                                                    &#x27;Airlines&#x27;,\n",
       "                                                                    &#x27;United&#x27;,\n",
       "                                                                    &#x27;Spirit &#x27;\n",
       "                                                                    &#x27;Airlines&#x27;,\n",
       "                                                                    &#x27;Frontier &#x27;\n",
       "                                                                    &#x27;Airlines&#x27;,\n",
       "                                                                    &#x27;Cape Air&#x27;,\n",
       "                                                                    &#x27;Alaska &#x27;\n",
       "                                                                    &#x27;Airlines&#x27;,\n",
       "                                                                    &#x27;Boutique &#x27;\n",
       "                                                                    &#x27;Air&#x27;,\n",
       "                                                                    &#x27;Key Lime &#x27;\n",
       "                                                                    &#x27;Air&#x27;,\n",
       "                                                                    &#x27;Southern &#x27;\n",
       "                                                                    &#x27;Airways &#x27;\n",
       "                                                                    &#x27;Express&#x27;,\n",
       "                                                                    &#x27;Sun &#x27;\n",
       "                                                                    &#x27;Country &#x27;\n",
       "                                                                    &#x27;Airlines&#x27;,\n",
       "                                                                    &#x27;Hawaiian &#x27;\n",
       "                                                                    &#x27;Airlines&#x27;,\n",
       "                                                                    &#x27;Contour &#x27;\n",
       "                                                                    &#x27;Airlines&#x27;])]))])),\n",
       "                (&#x27;gb&#x27;,\n",
       "                 GradientBoostingRegressor(max_depth=8, min_samples_leaf=3,\n",
       "                                           n_estimators=50, random_state=8))])</pre><b>In a Jupyter environment, please rerun this cell to show the HTML representation or trust the notebook. <br />On GitHub, the HTML representation is unable to render, please try loading this page with nbviewer.org.</b></div><div class=\"sk-container\" hidden><div class=\"sk-item sk-dashed-wrapped\"><div class=\"sk-label-container\"><div class=\"sk-label sk-toggleable\"><input class=\"sk-toggleable__control sk-hidden--visually\" id=\"sk-estimator-id-1\" type=\"checkbox\" ><label for=\"sk-estimator-id-1\" class=\"sk-toggleable__label sk-toggleable__label-arrow\">Pipeline</label><div class=\"sk-toggleable__content\"><pre>Pipeline(steps=[(&#x27;preprocessor&#x27;,\n",
       "                 Pipeline(steps=[(&#x27;preprocessor&#x27;,\n",
       "                                  ColumnTransformer(transformers=[(&#x27;num_transformer&#x27;,\n",
       "                                                                   Pipeline(steps=[(&#x27;scaler&#x27;,\n",
       "                                                                                    StandardScaler())]),\n",
       "                                                                   [&#x27;flightYear&#x27;,\n",
       "                                                                    &#x27;flightWeek&#x27;,\n",
       "                                                                    &#x27;searchGap&#x27;,\n",
       "                                                                    &#x27;departureHour&#x27;]),\n",
       "                                                                  (&#x27;cat_transformer&#x27;,\n",
       "                                                                   Pipeline(steps=[(&#x27;target_encoder&#x27;,\n",
       "                                                                                    TargetEncoder(random_state=8))]),\n",
       "                                                                   [&#x27;startingAirport&#x27;,\n",
       "                                                                    &#x27;destinationAirport&#x27;]),\n",
       "                                                                  (&#x27;en...\n",
       "                                                                    &#x27;Delta&#x27;,\n",
       "                                                                    &#x27;JetBlue &#x27;\n",
       "                                                                    &#x27;Airways&#x27;,\n",
       "                                                                    &#x27;American &#x27;\n",
       "                                                                    &#x27;Airlines&#x27;,\n",
       "                                                                    &#x27;United&#x27;,\n",
       "                                                                    &#x27;Spirit &#x27;\n",
       "                                                                    &#x27;Airlines&#x27;,\n",
       "                                                                    &#x27;Frontier &#x27;\n",
       "                                                                    &#x27;Airlines&#x27;,\n",
       "                                                                    &#x27;Cape Air&#x27;,\n",
       "                                                                    &#x27;Alaska &#x27;\n",
       "                                                                    &#x27;Airlines&#x27;,\n",
       "                                                                    &#x27;Boutique &#x27;\n",
       "                                                                    &#x27;Air&#x27;,\n",
       "                                                                    &#x27;Key Lime &#x27;\n",
       "                                                                    &#x27;Air&#x27;,\n",
       "                                                                    &#x27;Southern &#x27;\n",
       "                                                                    &#x27;Airways &#x27;\n",
       "                                                                    &#x27;Express&#x27;,\n",
       "                                                                    &#x27;Sun &#x27;\n",
       "                                                                    &#x27;Country &#x27;\n",
       "                                                                    &#x27;Airlines&#x27;,\n",
       "                                                                    &#x27;Hawaiian &#x27;\n",
       "                                                                    &#x27;Airlines&#x27;,\n",
       "                                                                    &#x27;Contour &#x27;\n",
       "                                                                    &#x27;Airlines&#x27;])]))])),\n",
       "                (&#x27;gb&#x27;,\n",
       "                 GradientBoostingRegressor(max_depth=8, min_samples_leaf=3,\n",
       "                                           n_estimators=50, random_state=8))])</pre></div></div></div><div class=\"sk-serial\"><div class=\"sk-item\"><div class=\"sk-label-container\"><div class=\"sk-label sk-toggleable\"><input class=\"sk-toggleable__control sk-hidden--visually\" id=\"sk-estimator-id-2\" type=\"checkbox\" ><label for=\"sk-estimator-id-2\" class=\"sk-toggleable__label sk-toggleable__label-arrow\">preprocessor: Pipeline</label><div class=\"sk-toggleable__content\"><pre>Pipeline(steps=[(&#x27;preprocessor&#x27;,\n",
       "                 ColumnTransformer(transformers=[(&#x27;num_transformer&#x27;,\n",
       "                                                  Pipeline(steps=[(&#x27;scaler&#x27;,\n",
       "                                                                   StandardScaler())]),\n",
       "                                                  [&#x27;flightYear&#x27;, &#x27;flightWeek&#x27;,\n",
       "                                                   &#x27;searchGap&#x27;,\n",
       "                                                   &#x27;departureHour&#x27;]),\n",
       "                                                 (&#x27;cat_transformer&#x27;,\n",
       "                                                  Pipeline(steps=[(&#x27;target_encoder&#x27;,\n",
       "                                                                   TargetEncoder(random_state=8))]),\n",
       "                                                  [&#x27;startingAirport&#x27;,\n",
       "                                                   &#x27;destinationAirport&#x27;]),\n",
       "                                                 (&#x27;enc_transformer&#x27;,\n",
       "                                                  &#x27;passthrough&#x27;,\n",
       "                                                  [&#x27;cabinWeight&#x27;, &#x27;Delta&#x27;,\n",
       "                                                   &#x27;JetBlue Airways&#x27;,\n",
       "                                                   &#x27;American Airlines&#x27;,\n",
       "                                                   &#x27;United&#x27;, &#x27;Spirit Airlines&#x27;,\n",
       "                                                   &#x27;Frontier Airlines&#x27;,\n",
       "                                                   &#x27;Cape Air&#x27;,\n",
       "                                                   &#x27;Alaska Airlines&#x27;,\n",
       "                                                   &#x27;Boutique Air&#x27;,\n",
       "                                                   &#x27;Key Lime Air&#x27;,\n",
       "                                                   &#x27;Southern Airways Express&#x27;,\n",
       "                                                   &#x27;Sun Country Airlines&#x27;,\n",
       "                                                   &#x27;Hawaiian Airlines&#x27;,\n",
       "                                                   &#x27;Contour Airlines&#x27;])]))])</pre></div></div></div><div class=\"sk-serial\"><div class=\"sk-item sk-dashed-wrapped\"><div class=\"sk-label-container\"><div class=\"sk-label sk-toggleable\"><input class=\"sk-toggleable__control sk-hidden--visually\" id=\"sk-estimator-id-3\" type=\"checkbox\" ><label for=\"sk-estimator-id-3\" class=\"sk-toggleable__label sk-toggleable__label-arrow\">preprocessor: ColumnTransformer</label><div class=\"sk-toggleable__content\"><pre>ColumnTransformer(transformers=[(&#x27;num_transformer&#x27;,\n",
       "                                 Pipeline(steps=[(&#x27;scaler&#x27;, StandardScaler())]),\n",
       "                                 [&#x27;flightYear&#x27;, &#x27;flightWeek&#x27;, &#x27;searchGap&#x27;,\n",
       "                                  &#x27;departureHour&#x27;]),\n",
       "                                (&#x27;cat_transformer&#x27;,\n",
       "                                 Pipeline(steps=[(&#x27;target_encoder&#x27;,\n",
       "                                                  TargetEncoder(random_state=8))]),\n",
       "                                 [&#x27;startingAirport&#x27;, &#x27;destinationAirport&#x27;]),\n",
       "                                (&#x27;enc_transformer&#x27;, &#x27;passthrough&#x27;,\n",
       "                                 [&#x27;cabinWeight&#x27;, &#x27;Delta&#x27;, &#x27;JetBlue Airways&#x27;,\n",
       "                                  &#x27;American Airlines&#x27;, &#x27;United&#x27;,\n",
       "                                  &#x27;Spirit Airlines&#x27;, &#x27;Frontier Airlines&#x27;,\n",
       "                                  &#x27;Cape Air&#x27;, &#x27;Alaska Airlines&#x27;, &#x27;Boutique Air&#x27;,\n",
       "                                  &#x27;Key Lime Air&#x27;, &#x27;Southern Airways Express&#x27;,\n",
       "                                  &#x27;Sun Country Airlines&#x27;, &#x27;Hawaiian Airlines&#x27;,\n",
       "                                  &#x27;Contour Airlines&#x27;])])</pre></div></div></div><div class=\"sk-parallel\"><div class=\"sk-parallel-item\"><div class=\"sk-item\"><div class=\"sk-label-container\"><div class=\"sk-label sk-toggleable\"><input class=\"sk-toggleable__control sk-hidden--visually\" id=\"sk-estimator-id-4\" type=\"checkbox\" ><label for=\"sk-estimator-id-4\" class=\"sk-toggleable__label sk-toggleable__label-arrow\">num_transformer</label><div class=\"sk-toggleable__content\"><pre>[&#x27;flightYear&#x27;, &#x27;flightWeek&#x27;, &#x27;searchGap&#x27;, &#x27;departureHour&#x27;]</pre></div></div></div><div class=\"sk-serial\"><div class=\"sk-item\"><div class=\"sk-serial\"><div class=\"sk-item\"><div class=\"sk-estimator sk-toggleable\"><input class=\"sk-toggleable__control sk-hidden--visually\" id=\"sk-estimator-id-5\" type=\"checkbox\" ><label for=\"sk-estimator-id-5\" class=\"sk-toggleable__label sk-toggleable__label-arrow\">StandardScaler</label><div class=\"sk-toggleable__content\"><pre>StandardScaler()</pre></div></div></div></div></div></div></div></div><div class=\"sk-parallel-item\"><div class=\"sk-item\"><div class=\"sk-label-container\"><div class=\"sk-label sk-toggleable\"><input class=\"sk-toggleable__control sk-hidden--visually\" id=\"sk-estimator-id-6\" type=\"checkbox\" ><label for=\"sk-estimator-id-6\" class=\"sk-toggleable__label sk-toggleable__label-arrow\">cat_transformer</label><div class=\"sk-toggleable__content\"><pre>[&#x27;startingAirport&#x27;, &#x27;destinationAirport&#x27;]</pre></div></div></div><div class=\"sk-serial\"><div class=\"sk-item\"><div class=\"sk-serial\"><div class=\"sk-item\"><div class=\"sk-estimator sk-toggleable\"><input class=\"sk-toggleable__control sk-hidden--visually\" id=\"sk-estimator-id-7\" type=\"checkbox\" ><label for=\"sk-estimator-id-7\" class=\"sk-toggleable__label sk-toggleable__label-arrow\">TargetEncoder</label><div class=\"sk-toggleable__content\"><pre>TargetEncoder(random_state=8)</pre></div></div></div></div></div></div></div></div><div class=\"sk-parallel-item\"><div class=\"sk-item\"><div class=\"sk-label-container\"><div class=\"sk-label sk-toggleable\"><input class=\"sk-toggleable__control sk-hidden--visually\" id=\"sk-estimator-id-8\" type=\"checkbox\" ><label for=\"sk-estimator-id-8\" class=\"sk-toggleable__label sk-toggleable__label-arrow\">enc_transformer</label><div class=\"sk-toggleable__content\"><pre>[&#x27;cabinWeight&#x27;, &#x27;Delta&#x27;, &#x27;JetBlue Airways&#x27;, &#x27;American Airlines&#x27;, &#x27;United&#x27;, &#x27;Spirit Airlines&#x27;, &#x27;Frontier Airlines&#x27;, &#x27;Cape Air&#x27;, &#x27;Alaska Airlines&#x27;, &#x27;Boutique Air&#x27;, &#x27;Key Lime Air&#x27;, &#x27;Southern Airways Express&#x27;, &#x27;Sun Country Airlines&#x27;, &#x27;Hawaiian Airlines&#x27;, &#x27;Contour Airlines&#x27;]</pre></div></div></div><div class=\"sk-serial\"><div class=\"sk-item\"><div class=\"sk-estimator sk-toggleable\"><input class=\"sk-toggleable__control sk-hidden--visually\" id=\"sk-estimator-id-9\" type=\"checkbox\" ><label for=\"sk-estimator-id-9\" class=\"sk-toggleable__label sk-toggleable__label-arrow\">passthrough</label><div class=\"sk-toggleable__content\"><pre>passthrough</pre></div></div></div></div></div></div></div></div></div></div><div class=\"sk-item\"><div class=\"sk-estimator sk-toggleable\"><input class=\"sk-toggleable__control sk-hidden--visually\" id=\"sk-estimator-id-10\" type=\"checkbox\" ><label for=\"sk-estimator-id-10\" class=\"sk-toggleable__label sk-toggleable__label-arrow\">GradientBoostingRegressor</label><div class=\"sk-toggleable__content\"><pre>GradientBoostingRegressor(max_depth=8, min_samples_leaf=3, n_estimators=50,\n",
       "                          random_state=8)</pre></div></div></div></div></div></div></div>"
      ],
      "text/plain": [
       "Pipeline(steps=[('preprocessor',\n",
       "                 Pipeline(steps=[('preprocessor',\n",
       "                                  ColumnTransformer(transformers=[('num_transformer',\n",
       "                                                                   Pipeline(steps=[('scaler',\n",
       "                                                                                    StandardScaler())]),\n",
       "                                                                   ['flightYear',\n",
       "                                                                    'flightWeek',\n",
       "                                                                    'searchGap',\n",
       "                                                                    'departureHour']),\n",
       "                                                                  ('cat_transformer',\n",
       "                                                                   Pipeline(steps=[('target_encoder',\n",
       "                                                                                    TargetEncoder(random_state=8))]),\n",
       "                                                                   ['startingAirport',\n",
       "                                                                    'destinationAirport']),\n",
       "                                                                  ('en...\n",
       "                                                                    'Delta',\n",
       "                                                                    'JetBlue '\n",
       "                                                                    'Airways',\n",
       "                                                                    'American '\n",
       "                                                                    'Airlines',\n",
       "                                                                    'United',\n",
       "                                                                    'Spirit '\n",
       "                                                                    'Airlines',\n",
       "                                                                    'Frontier '\n",
       "                                                                    'Airlines',\n",
       "                                                                    'Cape Air',\n",
       "                                                                    'Alaska '\n",
       "                                                                    'Airlines',\n",
       "                                                                    'Boutique '\n",
       "                                                                    'Air',\n",
       "                                                                    'Key Lime '\n",
       "                                                                    'Air',\n",
       "                                                                    'Southern '\n",
       "                                                                    'Airways '\n",
       "                                                                    'Express',\n",
       "                                                                    'Sun '\n",
       "                                                                    'Country '\n",
       "                                                                    'Airlines',\n",
       "                                                                    'Hawaiian '\n",
       "                                                                    'Airlines',\n",
       "                                                                    'Contour '\n",
       "                                                                    'Airlines'])]))])),\n",
       "                ('gb',\n",
       "                 GradientBoostingRegressor(max_depth=8, min_samples_leaf=3,\n",
       "                                           n_estimators=50, random_state=8))])"
      ]
     },
     "execution_count": 14,
     "metadata": {},
     "output_type": "execute_result"
    }
   ],
   "source": [
    "gb_pipe.fit(X_train, y_train)"
   ]
  },
  {
   "cell_type": "code",
   "execution_count": 15,
   "id": "41f46099-2d10-45b6-98b8-0b435e476f1c",
   "metadata": {
    "tags": []
   },
   "outputs": [],
   "source": [
    "gb_train_preds = gb_pipe.predict(X_train)"
   ]
  },
  {
   "cell_type": "code",
   "execution_count": 16,
   "id": "6004614b-6ef9-4ed7-a664-cc31defd7dbc",
   "metadata": {
    "tags": []
   },
   "outputs": [],
   "source": [
    "gb_val_preds = gb_pipe.predict(X_val)"
   ]
  },
  {
   "cell_type": "code",
   "execution_count": 19,
   "id": "c4ab4d92-1ae7-4903-a96e-2bd9e87479b1",
   "metadata": {
    "tags": []
   },
   "outputs": [
    {
     "name": "stdout",
     "output_type": "stream",
     "text": [
      "The Mean Absolute Error for training set is  76.70695258456486\n",
      "The Mean Absolute Error for validation set is  81.99926660043921\n",
      "The Root Mean Squared Error for training set is  112.92319994483144\n",
      "The Root Mean Squared Error for validation set is  117.89257871868854\n"
     ]
    }
   ],
   "source": [
    "evaluate_model(y_train, gb_train_preds, y_val, gb_val_preds)"
   ]
  },
  {
   "cell_type": "code",
   "execution_count": 20,
   "id": "97c23c41-c169-452c-8e1c-dd66e15b39a0",
   "metadata": {
    "tags": []
   },
   "outputs": [
    {
     "data": {
      "text/plain": [
       "['../models/airline_gb_pipe.joblib']"
      ]
     },
     "execution_count": 20,
     "metadata": {},
     "output_type": "execute_result"
    }
   ],
   "source": [
    "dump(gb_pipe, '../models/airline_gb_pipe.joblib')"
   ]
  },
  {
   "cell_type": "markdown",
   "id": "b8604345-42d5-400c-8b70-6d43af9028a2",
   "metadata": {
    "tags": []
   },
   "source": [
    "## TensorFlow"
   ]
  },
  {
   "cell_type": "code",
   "execution_count": 35,
   "id": "7486534e-dd98-4a90-9953-1b0d873c094d",
   "metadata": {
    "tags": []
   },
   "outputs": [],
   "source": [
    "X_train = preprocessor_pipe.fit_transform(X_train, y_train)"
   ]
  },
  {
   "cell_type": "code",
   "execution_count": 36,
   "id": "8d352838-d78e-4978-a5e8-c86b1ee1f985",
   "metadata": {
    "tags": []
   },
   "outputs": [
    {
     "ename": "ModuleNotFoundError",
     "evalue": "No module named 'tensorflow'",
     "output_type": "error",
     "traceback": [
      "\u001b[1;31m---------------------------------------------------------------------------\u001b[0m",
      "\u001b[1;31mModuleNotFoundError\u001b[0m                       Traceback (most recent call last)",
      "Cell \u001b[1;32mIn[36], line 1\u001b[0m\n\u001b[1;32m----> 1\u001b[0m \u001b[38;5;28;01mimport\u001b[39;00m \u001b[38;5;21;01mtensorflow\u001b[39;00m \u001b[38;5;28;01mas\u001b[39;00m \u001b[38;5;21;01mtf\u001b[39;00m\n\u001b[0;32m      2\u001b[0m \u001b[38;5;28;01mfrom\u001b[39;00m \u001b[38;5;21;01mtensorflow\u001b[39;00m\u001b[38;5;21;01m.\u001b[39;00m\u001b[38;5;21;01mkeras\u001b[39;00m\u001b[38;5;21;01m.\u001b[39;00m\u001b[38;5;21;01mmodels\u001b[39;00m \u001b[38;5;28;01mimport\u001b[39;00m Sequential\n\u001b[0;32m      3\u001b[0m \u001b[38;5;28;01mfrom\u001b[39;00m \u001b[38;5;21;01mtensorflow\u001b[39;00m\u001b[38;5;21;01m.\u001b[39;00m\u001b[38;5;21;01mkeras\u001b[39;00m\u001b[38;5;21;01m.\u001b[39;00m\u001b[38;5;21;01mlayers\u001b[39;00m \u001b[38;5;28;01mimport\u001b[39;00m Dense\n",
      "\u001b[1;31mModuleNotFoundError\u001b[0m: No module named 'tensorflow'"
     ]
    }
   ],
   "source": [
    "import tensorflow as tf\n",
    "from tensorflow.keras.models import Sequential\n",
    "from tensorflow.keras.layers import Dense\n",
    "from tensorflow.keras.callbacks import ModelCheckpoint\n",
    "\n",
    "# Create a simple neural network model\n",
    "model = Sequential()\n",
    "model.add(Dense(64, activation='relu', input_dim=10))\n",
    "model.add(Dense(32, activation='relu'))\n",
    "model.add(Dense(1, activation='sigmoid'))\n",
    "\n",
    "# Define a model checkpoint callback to save weights during training\n",
    "checkpoint_callback = ModelCheckpoint(\"model_checkpoint.h5\", save_best_only=True)\n",
    "\n",
    "# Compile the model\n",
    "model.compile(optimizer='adam', loss='binary_crossentropy', metrics=['root_mean_squared_error'])\n",
    "\n",
    "# Train the model with checkpointing\n",
    "model.fit(X_train, y_train, epochs=50, validation_data=(X_val, y_val), callbacks=[checkpoint_callback])"
   ]
  }
 ],
 "metadata": {
  "kernelspec": {
   "display_name": "Python 3 (ipykernel)",
   "language": "python",
   "name": "python3"
  },
  "language_info": {
   "codemirror_mode": {
    "name": "ipython",
    "version": 3
   },
   "file_extension": ".py",
   "mimetype": "text/x-python",
   "name": "python",
   "nbconvert_exporter": "python",
   "pygments_lexer": "ipython3",
   "version": "3.11.4"
  }
 },
 "nbformat": 4,
 "nbformat_minor": 5
}
