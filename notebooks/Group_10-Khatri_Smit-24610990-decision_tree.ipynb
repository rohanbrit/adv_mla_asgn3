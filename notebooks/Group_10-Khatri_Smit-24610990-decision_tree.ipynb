{
 "cells": [
  {
   "cell_type": "markdown",
   "id": "9507be78-afa6-4855-bd1e-9a05e7cfdb94",
   "metadata": {},
   "source": [
    "# Advanced Machine Learning Application - Assignment 3\n",
    "## Data Product with Machine Learning\n",
    "### Group 10\n",
    "    - Archit Pradip Murgudkar : 14190286\n",
    "    - Mahjabeen Mohiuddin : 24610507\n",
    "    - Rohan Rocky Britto : 24610990\n",
    "    - Smit Khatri : 24712248"
   ]
  },
  {
   "cell_type": "markdown",
   "id": "a1407fa0-d501-4ec2-a84f-7c7aa0ac8f5f",
   "metadata": {},
   "source": [
    "We started off by bulk extracting the zip files in each of the subfolders (ATL, BOS etc.) using application like 7zip or Winrar that provide this feature."
   ]
  },
  {
   "cell_type": "markdown",
   "id": "a40b1244-3e4a-4fb1-9bb5-00c9fd533df3",
   "metadata": {},
   "source": [
    "## Importing required packages"
   ]
  },
  {
   "cell_type": "code",
   "execution_count": 26,
   "id": "88368b09-7130-4b92-a050-2888734a0c22",
   "metadata": {
    "tags": []
   },
   "outputs": [],
   "source": [
    "import pandas as pd\n",
    "from pathlib import Path\n",
    "import os"
   ]
  },
  {
   "cell_type": "markdown",
   "id": "42b81236-e407-4751-8f53-9c9b537d0190",
   "metadata": {},
   "source": [
    "Read all the files in the directory and create a merged dataframe"
   ]
  },
  {
   "cell_type": "code",
   "execution_count": 27,
   "id": "7efa6307-73e2-4356-8849-ba1b30051424",
   "metadata": {
    "tags": []
   },
   "outputs": [],
   "source": [
    "current_directory = os.getcwd()\n",
    "parent_directory = Path(current_directory).parent.absolute()\n",
    "raw_data_path = parent_directory / 'data/raw/itineraries_csv/'"
   ]
  },
  {
   "cell_type": "code",
   "execution_count": 28,
   "id": "ffccf232-be38-453e-9492-094cb9d7d314",
   "metadata": {
    "tags": []
   },
   "outputs": [],
   "source": [
    "df = pd.DataFrame({})"
   ]
  },
  {
   "cell_type": "markdown",
   "id": "1a452bcb-39a8-4c6f-b1ed-1b124a7893ee",
   "metadata": {},
   "source": [
    "Concatenate the data from all the folders into the dataframe"
   ]
  },
  {
   "cell_type": "code",
   "execution_count": 29,
   "id": "3747f13c-ab91-44b2-ad44-f46cf5fb58cf",
   "metadata": {
    "tags": []
   },
   "outputs": [
    {
     "name": "stdout",
     "output_type": "stream",
     "text": [
      "874069 rows of data from ATL directory have been added to the dataframe\n",
      "989175 rows of data from BOS directory have been added to the dataframe\n",
      "854536 rows of data from CLT directory have been added to the dataframe\n",
      "770429 rows of data from DEN directory have been added to the dataframe\n",
      "896596 rows of data from DFW directory have been added to the dataframe\n",
      "747751 rows of data from DTW directory have been added to the dataframe\n",
      "699628 rows of data from EWR directory have been added to the dataframe\n",
      "594215 rows of data from IAD directory have been added to the dataframe\n",
      "688263 rows of data from JFK directory have been added to the dataframe\n",
      "1352275 rows of data from LAX directory have been added to the dataframe\n",
      "1021938 rows of data from LGA directory have been added to the dataframe\n",
      "875288 rows of data from MIA directory have been added to the dataframe\n",
      "527105 rows of data from OAK directory have been added to the dataframe\n",
      "894646 rows of data from ORD directory have been added to the dataframe\n",
      "785039 rows of data from PHL directory have been added to the dataframe\n",
      "949046 rows of data from SFO directory have been added to the dataframe\n"
     ]
    }
   ],
   "source": [
    "for directory in os.listdir(raw_data_path):\n",
    "    directory_path = raw_data_path / directory\n",
    "    files = Path(directory_path).rglob('*.csv')\n",
    "    \n",
    "    df_temp = pd.DataFrame({})\n",
    "    \n",
    "    for file in files:\n",
    "        df_file = pd.read_csv(file)\n",
    "        df_temp = pd.concat([df_temp, df_file])\n",
    "        \n",
    "    df = pd.concat([df, df_temp])\n",
    "    print(len(df_temp), 'rows of data from', directory, 'directory have been added to the dataframe')"
   ]
  },
  {
   "cell_type": "markdown",
   "id": "192ca840-cdbb-48c6-abf4-a921059e0ba4",
   "metadata": {},
   "source": [
    "## Data analysis and cleaning"
   ]
  },
  {
   "cell_type": "markdown",
   "id": "6ce5ad4d-8341-447d-88d6-dd39b2853d46",
   "metadata": {},
   "source": [
    "Check the shape of the dataframe"
   ]
  },
  {
   "cell_type": "code",
   "execution_count": 30,
   "id": "0af9dd65-132a-4a24-92c4-24b428216fce",
   "metadata": {
    "tags": []
   },
   "outputs": [
    {
     "data": {
      "text/plain": [
       "(13519999, 23)"
      ]
     },
     "execution_count": 30,
     "metadata": {},
     "output_type": "execute_result"
    }
   ],
   "source": [
    "df.shape"
   ]
  },
  {
   "cell_type": "markdown",
   "id": "ffc765d6-d5d3-4f47-9b11-99e4dbf2aadc",
   "metadata": {},
   "source": [
    "Checking the structure of the dataframe"
   ]
  },
  {
   "cell_type": "code",
   "execution_count": 31,
   "id": "bc8563c5-19e2-420e-8b78-7cb1dd3246ee",
   "metadata": {
    "tags": []
   },
   "outputs": [
    {
     "name": "stdout",
     "output_type": "stream",
     "text": [
      "<class 'pandas.core.frame.DataFrame'>\n",
      "Int64Index: 13519999 entries, 0 to 1355\n",
      "Data columns (total 23 columns):\n",
      " #   Column                             Dtype  \n",
      "---  ------                             -----  \n",
      " 0   legId                              object \n",
      " 1   searchDate                         object \n",
      " 2   flightDate                         object \n",
      " 3   startingAirport                    object \n",
      " 4   destinationAirport                 object \n",
      " 5   travelDuration                     object \n",
      " 6   isBasicEconomy                     bool   \n",
      " 7   isRefundable                       bool   \n",
      " 8   isNonStop                          bool   \n",
      " 9   totalFare                          float64\n",
      " 10  totalTravelDistance                float64\n",
      " 11  segmentsDepartureTimeEpochSeconds  object \n",
      " 12  segmentsDepartureTimeRaw           object \n",
      " 13  segmentsArrivalTimeEpochSeconds    object \n",
      " 14  segmentsArrivalTimeRaw             object \n",
      " 15  segmentsArrivalAirportCode         object \n",
      " 16  segmentsDepartureAirportCode       object \n",
      " 17  segmentsAirlineName                object \n",
      " 18  segmentsAirlineCode                object \n",
      " 19  segmentsEquipmentDescription       object \n",
      " 20  segmentsDurationInSeconds          object \n",
      " 21  segmentsDistance                   object \n",
      " 22  segmentsCabinCode                  object \n",
      "dtypes: bool(3), float64(2), object(18)\n",
      "memory usage: 2.2+ GB\n"
     ]
    }
   ],
   "source": [
    "df.info()"
   ]
  },
  {
   "cell_type": "markdown",
   "id": "459616d7-535f-40c5-86c0-fd4756dc70ca",
   "metadata": {},
   "source": [
    "Let us have a quick look at the sample data in the dataset"
   ]
  },
  {
   "cell_type": "code",
   "execution_count": 32,
   "id": "6a3b3af0-bc35-4799-9bf9-d931d09c3119",
   "metadata": {
    "tags": []
   },
   "outputs": [
    {
     "data": {
      "text/html": [
       "<div>\n",
       "<style scoped>\n",
       "    .dataframe tbody tr th:only-of-type {\n",
       "        vertical-align: middle;\n",
       "    }\n",
       "\n",
       "    .dataframe tbody tr th {\n",
       "        vertical-align: top;\n",
       "    }\n",
       "\n",
       "    .dataframe thead th {\n",
       "        text-align: right;\n",
       "    }\n",
       "</style>\n",
       "<table border=\"1\" class=\"dataframe\">\n",
       "  <thead>\n",
       "    <tr style=\"text-align: right;\">\n",
       "      <th></th>\n",
       "      <th>legId</th>\n",
       "      <th>searchDate</th>\n",
       "      <th>flightDate</th>\n",
       "      <th>startingAirport</th>\n",
       "      <th>destinationAirport</th>\n",
       "      <th>travelDuration</th>\n",
       "      <th>isBasicEconomy</th>\n",
       "      <th>isRefundable</th>\n",
       "      <th>isNonStop</th>\n",
       "      <th>totalFare</th>\n",
       "      <th>...</th>\n",
       "      <th>segmentsArrivalTimeEpochSeconds</th>\n",
       "      <th>segmentsArrivalTimeRaw</th>\n",
       "      <th>segmentsArrivalAirportCode</th>\n",
       "      <th>segmentsDepartureAirportCode</th>\n",
       "      <th>segmentsAirlineName</th>\n",
       "      <th>segmentsAirlineCode</th>\n",
       "      <th>segmentsEquipmentDescription</th>\n",
       "      <th>segmentsDurationInSeconds</th>\n",
       "      <th>segmentsDistance</th>\n",
       "      <th>segmentsCabinCode</th>\n",
       "    </tr>\n",
       "  </thead>\n",
       "  <tbody>\n",
       "    <tr>\n",
       "      <th>1748</th>\n",
       "      <td>1163924f2d49adb50ca45681b803c702</td>\n",
       "      <td>2022-04-26</td>\n",
       "      <td>2022-05-09</td>\n",
       "      <td>LAX</td>\n",
       "      <td>ATL</td>\n",
       "      <td>PT12H53M</td>\n",
       "      <td>False</td>\n",
       "      <td>False</td>\n",
       "      <td>False</td>\n",
       "      <td>247.78</td>\n",
       "      <td>...</td>\n",
       "      <td>1652157900||1652186280</td>\n",
       "      <td>2022-05-10T00:45:00.000-04:00||2022-05-10T08:3...</td>\n",
       "      <td>BWI||ATL</td>\n",
       "      <td>LAX||BWI</td>\n",
       "      <td>Spirit Airlines||Spirit Airlines</td>\n",
       "      <td>NK||NK</td>\n",
       "      <td>||AIRBUS INDUSTRIE A321 SHARKLETS</td>\n",
       "      <td>18000||6780</td>\n",
       "      <td>None||None</td>\n",
       "      <td>coach||coach</td>\n",
       "    </tr>\n",
       "    <tr>\n",
       "      <th>365</th>\n",
       "      <td>bbb3cdc07cfa4d0ae124582cfb111544</td>\n",
       "      <td>2022-04-17</td>\n",
       "      <td>2022-05-05</td>\n",
       "      <td>LAX</td>\n",
       "      <td>DTW</td>\n",
       "      <td>PT13H3M</td>\n",
       "      <td>False</td>\n",
       "      <td>False</td>\n",
       "      <td>False</td>\n",
       "      <td>552.21</td>\n",
       "      <td>...</td>\n",
       "      <td>1651830780||1651866780</td>\n",
       "      <td>2022-05-06T04:53:00.000-05:00||2022-05-06T15:5...</td>\n",
       "      <td>IAH||DTW</td>\n",
       "      <td>ONT||IAH</td>\n",
       "      <td>United||United</td>\n",
       "      <td>UA||UA</td>\n",
       "      <td>Boeing 737-800||Embraer 175 (Enhanced Winglets)</td>\n",
       "      <td>10980||10260</td>\n",
       "      <td>1360||1095</td>\n",
       "      <td>coach||coach</td>\n",
       "    </tr>\n",
       "    <tr>\n",
       "      <th>1105</th>\n",
       "      <td>843b376824a18233312838c0d22dec74</td>\n",
       "      <td>2022-05-06</td>\n",
       "      <td>2022-07-04</td>\n",
       "      <td>DEN</td>\n",
       "      <td>DFW</td>\n",
       "      <td>PT11H50M</td>\n",
       "      <td>False</td>\n",
       "      <td>False</td>\n",
       "      <td>False</td>\n",
       "      <td>327.20</td>\n",
       "      <td>...</td>\n",
       "      <td>1656954480||1656990300</td>\n",
       "      <td>2022-07-04T12:08:00.000-05:00||2022-07-04T22:0...</td>\n",
       "      <td>MSP||DFW</td>\n",
       "      <td>DEN||MSP</td>\n",
       "      <td>Delta||Delta</td>\n",
       "      <td>DL||DL</td>\n",
       "      <td>Airbus A321||Airbus A319</td>\n",
       "      <td>6780||8700</td>\n",
       "      <td>693||854</td>\n",
       "      <td>coach||coach</td>\n",
       "    </tr>\n",
       "    <tr>\n",
       "      <th>35</th>\n",
       "      <td>fc550c979f55f91d96e2afc88e9f6a03</td>\n",
       "      <td>2022-04-25</td>\n",
       "      <td>2022-06-15</td>\n",
       "      <td>DTW</td>\n",
       "      <td>BOS</td>\n",
       "      <td>PT1H48M</td>\n",
       "      <td>False</td>\n",
       "      <td>False</td>\n",
       "      <td>True</td>\n",
       "      <td>144.35</td>\n",
       "      <td>...</td>\n",
       "      <td>1655318400</td>\n",
       "      <td>2022-06-15T14:40:00.000-04:00</td>\n",
       "      <td>BOS</td>\n",
       "      <td>DTW</td>\n",
       "      <td>American Airlines</td>\n",
       "      <td>AA</td>\n",
       "      <td>Embraer 190</td>\n",
       "      <td>6480</td>\n",
       "      <td>622</td>\n",
       "      <td>coach</td>\n",
       "    </tr>\n",
       "    <tr>\n",
       "      <th>762</th>\n",
       "      <td>fdb579a4c20ee35432cf815fd72a8258</td>\n",
       "      <td>2022-05-09</td>\n",
       "      <td>2022-07-08</td>\n",
       "      <td>OAK</td>\n",
       "      <td>BOS</td>\n",
       "      <td>PT15H35M</td>\n",
       "      <td>False</td>\n",
       "      <td>False</td>\n",
       "      <td>False</td>\n",
       "      <td>456.58</td>\n",
       "      <td>...</td>\n",
       "      <td>1657312440||1657362900</td>\n",
       "      <td>2022-07-08T13:34:00.000-07:00||2022-07-09T06:3...</td>\n",
       "      <td>LAS||BOS</td>\n",
       "      <td>OAK||LAS</td>\n",
       "      <td>Spirit Airlines||Spirit Airlines</td>\n",
       "      <td>NK||NK</td>\n",
       "      <td>||</td>\n",
       "      <td>5640||18300</td>\n",
       "      <td>None||None</td>\n",
       "      <td>coach||coach</td>\n",
       "    </tr>\n",
       "  </tbody>\n",
       "</table>\n",
       "<p>5 rows × 23 columns</p>\n",
       "</div>"
      ],
      "text/plain": [
       "                                 legId  searchDate  flightDate  \\\n",
       "1748  1163924f2d49adb50ca45681b803c702  2022-04-26  2022-05-09   \n",
       "365   bbb3cdc07cfa4d0ae124582cfb111544  2022-04-17  2022-05-05   \n",
       "1105  843b376824a18233312838c0d22dec74  2022-05-06  2022-07-04   \n",
       "35    fc550c979f55f91d96e2afc88e9f6a03  2022-04-25  2022-06-15   \n",
       "762   fdb579a4c20ee35432cf815fd72a8258  2022-05-09  2022-07-08   \n",
       "\n",
       "     startingAirport destinationAirport travelDuration  isBasicEconomy  \\\n",
       "1748             LAX                ATL       PT12H53M           False   \n",
       "365              LAX                DTW        PT13H3M           False   \n",
       "1105             DEN                DFW       PT11H50M           False   \n",
       "35               DTW                BOS        PT1H48M           False   \n",
       "762              OAK                BOS       PT15H35M           False   \n",
       "\n",
       "      isRefundable  isNonStop  totalFare  ...  \\\n",
       "1748         False      False     247.78  ...   \n",
       "365          False      False     552.21  ...   \n",
       "1105         False      False     327.20  ...   \n",
       "35           False       True     144.35  ...   \n",
       "762          False      False     456.58  ...   \n",
       "\n",
       "      segmentsArrivalTimeEpochSeconds  \\\n",
       "1748           1652157900||1652186280   \n",
       "365            1651830780||1651866780   \n",
       "1105           1656954480||1656990300   \n",
       "35                         1655318400   \n",
       "762            1657312440||1657362900   \n",
       "\n",
       "                                 segmentsArrivalTimeRaw  \\\n",
       "1748  2022-05-10T00:45:00.000-04:00||2022-05-10T08:3...   \n",
       "365   2022-05-06T04:53:00.000-05:00||2022-05-06T15:5...   \n",
       "1105  2022-07-04T12:08:00.000-05:00||2022-07-04T22:0...   \n",
       "35                        2022-06-15T14:40:00.000-04:00   \n",
       "762   2022-07-08T13:34:00.000-07:00||2022-07-09T06:3...   \n",
       "\n",
       "     segmentsArrivalAirportCode segmentsDepartureAirportCode  \\\n",
       "1748                   BWI||ATL                     LAX||BWI   \n",
       "365                    IAH||DTW                     ONT||IAH   \n",
       "1105                   MSP||DFW                     DEN||MSP   \n",
       "35                          BOS                          DTW   \n",
       "762                    LAS||BOS                     OAK||LAS   \n",
       "\n",
       "                   segmentsAirlineName segmentsAirlineCode  \\\n",
       "1748  Spirit Airlines||Spirit Airlines              NK||NK   \n",
       "365                     United||United              UA||UA   \n",
       "1105                      Delta||Delta              DL||DL   \n",
       "35                   American Airlines                  AA   \n",
       "762   Spirit Airlines||Spirit Airlines              NK||NK   \n",
       "\n",
       "                         segmentsEquipmentDescription  \\\n",
       "1748                ||AIRBUS INDUSTRIE A321 SHARKLETS   \n",
       "365   Boeing 737-800||Embraer 175 (Enhanced Winglets)   \n",
       "1105                         Airbus A321||Airbus A319   \n",
       "35                                        Embraer 190   \n",
       "762                                                ||   \n",
       "\n",
       "     segmentsDurationInSeconds segmentsDistance segmentsCabinCode  \n",
       "1748               18000||6780       None||None      coach||coach  \n",
       "365               10980||10260       1360||1095      coach||coach  \n",
       "1105                6780||8700         693||854      coach||coach  \n",
       "35                        6480              622             coach  \n",
       "762                5640||18300       None||None      coach||coach  \n",
       "\n",
       "[5 rows x 23 columns]"
      ]
     },
     "execution_count": 32,
     "metadata": {},
     "output_type": "execute_result"
    }
   ],
   "source": [
    "df.sample(5)"
   ]
  },
  {
   "cell_type": "markdown",
   "id": "0cbbca94-2cbe-4007-9aae-c837b7e1f0e3",
   "metadata": {},
   "source": [
    "Checking for null values in the dataset"
   ]
  },
  {
   "cell_type": "code",
   "execution_count": 33,
   "id": "149f5f03-a779-4e1a-8c36-67b304d347d9",
   "metadata": {
    "tags": []
   },
   "outputs": [
    {
     "data": {
      "text/plain": [
       "legId                                     0\n",
       "searchDate                                0\n",
       "flightDate                                0\n",
       "startingAirport                           0\n",
       "destinationAirport                        0\n",
       "travelDuration                            0\n",
       "isBasicEconomy                            0\n",
       "isRefundable                              0\n",
       "isNonStop                                 0\n",
       "totalFare                                 0\n",
       "totalTravelDistance                  959619\n",
       "segmentsDepartureTimeEpochSeconds         0\n",
       "segmentsDepartureTimeRaw                  0\n",
       "segmentsArrivalTimeEpochSeconds           0\n",
       "segmentsArrivalTimeRaw                    0\n",
       "segmentsArrivalAirportCode                0\n",
       "segmentsDepartureAirportCode              0\n",
       "segmentsAirlineName                       0\n",
       "segmentsAirlineCode                       0\n",
       "segmentsEquipmentDescription         262676\n",
       "segmentsDurationInSeconds                 0\n",
       "segmentsDistance                          0\n",
       "segmentsCabinCode                         0\n",
       "dtype: int64"
      ]
     },
     "execution_count": 33,
     "metadata": {},
     "output_type": "execute_result"
    }
   ],
   "source": [
    "df.isna().sum()"
   ]
  },
  {
   "cell_type": "markdown",
   "id": "0faf184b-e930-4688-992c-d438e8516607",
   "metadata": {},
   "source": [
    "These features may not be used in our model as we may not be able to derive it from the input fields in streamlit. Hence, we will not be deleting or manipulating the data in them"
   ]
  },
  {
   "cell_type": "markdown",
   "id": "88956e66-1f3e-448a-ac16-52431d3b6e9d",
   "metadata": {
    "tags": []
   },
   "source": [
    "Checking duplicate entries in the data"
   ]
  },
  {
   "cell_type": "code",
   "execution_count": 34,
   "id": "3b12f663-76ab-4bea-9ba6-66f29dddadfc",
   "metadata": {
    "tags": []
   },
   "outputs": [
    {
     "data": {
      "text/plain": [
       "0"
      ]
     },
     "execution_count": 34,
     "metadata": {},
     "output_type": "execute_result"
    }
   ],
   "source": [
    "df.duplicated().sum()"
   ]
  },
  {
   "cell_type": "code",
   "execution_count": 35,
   "id": "3acfe009-539b-476c-ac58-9b5930c31259",
   "metadata": {
    "tags": []
   },
   "outputs": [
    {
     "data": {
      "text/plain": [
       "<AxesSubplot:>"
      ]
     },
     "execution_count": 35,
     "metadata": {},
     "output_type": "execute_result"
    },
    {
     "data": {
      "image/png": "[encoded data removed]",
      "text/plain": [
       "<Figure size 640x480 with 1 Axes>"
      ]
     },
     "metadata": {},
     "output_type": "display_data"
    }
   ],
   "source": [
    "import matplotlib.pyplot as plt\n",
    "df.boxplot(column='totalFare')"
   ]
  },
  {
   "cell_type": "markdown",
   "id": "d347143c-08e8-4141-9315-50ddf5f998e1",
   "metadata": {},
   "source": [
    "Outliers could be mostly those fares that are more than $4000. Let us check the number of trips that have such high fare."
   ]
  },
  {
   "cell_type": "code",
   "execution_count": 36,
   "id": "12692f0d-d226-4338-a0e4-b0a4bb6bd9a0",
   "metadata": {
    "tags": []
   },
   "outputs": [
    {
     "data": {
      "text/plain": [
       "75"
      ]
     },
     "execution_count": 36,
     "metadata": {},
     "output_type": "execute_result"
    }
   ],
   "source": [
    "len(df[df['totalFare']>4000])"
   ]
  },
  {
   "cell_type": "markdown",
   "id": "40a2a026-4aba-47db-8f28-dd73aa419ebf",
   "metadata": {
    "tags": []
   },
   "source": [
    "There are only 75 such cases in the dataset. These could be genuine cases where the tickets are of first class or those that are searched very close to the flight date."
   ]
  },
  {
   "cell_type": "code",
   "execution_count": 37,
   "id": "eba86a52-b69b-4968-963d-8caa2618d659",
   "metadata": {
    "tags": []
   },
   "outputs": [
    {
     "data": {
      "text/plain": [
       "68"
      ]
     },
     "execution_count": 37,
     "metadata": {},
     "output_type": "execute_result"
    }
   ],
   "source": [
    "df[df['totalFare']>4000]['segmentsCabinCode'].str.contains('first').sum()"
   ]
  },
  {
   "cell_type": "markdown",
   "id": "606b2701-618a-4218-9d5f-4d4d069ea38f",
   "metadata": {},
   "source": [
    "This confirms our hypothesis and hence, we won't discard these rows"
   ]
  },
  {
   "cell_type": "markdown",
   "id": "f2bd8b21-ec85-4c4a-bed7-dcedde88df81",
   "metadata": {},
   "source": [
    "Flight year, month and week number extracted from the flight date."
   ]
  },
  {
   "cell_type": "code",
   "execution_count": 48,
   "id": "c770946a-3a4b-4c4d-92fa-09d8a762b280",
   "metadata": {
    "tags": []
   },
   "outputs": [],
   "source": [
    "df['flightDate'] = pd.to_datetime(df['flightDate'])\n",
    "\n",
    "df['flightYear'] = df['flightDate'].dt.year\n",
    "df['flightMonth'] = df['flightDate'].dt.month\n",
    "df['flightDay'] = df['flightDate'].dt.day\n",
    "df['flightWeek'] = df['flightDate'].dt.isocalendar().week"
   ]
  },
  {
   "cell_type": "markdown",
   "id": "4ed04c9f-ce0b-491e-be5a-992276894a51",
   "metadata": {
    "tags": []
   },
   "source": [
    "The gap between the search date and flight date can be a major factor in determining the price of a flight. In production environment, search date would be the current date and would be easily available."
   ]
  },
  {
   "cell_type": "markdown",
   "id": "752c2703-3a6e-4165-8ffa-379a6195d3f8",
   "metadata": {
    "tags": []
   },
   "source": [
    "As the test will be performed on data of the past date, we will include a field for manually setting the search date that will only be available on test evironment."
   ]
  },
  {
   "cell_type": "code",
   "execution_count": 49,
   "id": "318a0e2e-278c-4832-8a08-11f5634c90a1",
   "metadata": {
    "tags": []
   },
   "outputs": [],
   "source": [
    "df['searchGap'] = (pd.to_datetime(df['flightDate'])-pd.to_datetime(df['searchDate'])).dt.days"
   ]
  },
  {
   "cell_type": "markdown",
   "id": "ee92a53b-6dac-48a0-96ac-8d4275751c4b",
   "metadata": {},
   "source": [
    "Save the merged dataset so that we do not have to perform merging again"
   ]
  },
  {
   "cell_type": "code",
   "execution_count": 50,
   "id": "932e37f4-551f-4822-9c8b-2a9b42108822",
   "metadata": {
    "tags": []
   },
   "outputs": [],
   "source": [
    "df.to_csv('../data/raw/merged_dataset.csv', index=False)"
   ]
  },
  {
   "cell_type": "markdown",
   "id": "6d36a9cf",
   "metadata": {},
   "source": [
    "Print the columns in your dataset"
   ]
  },
  {
   "cell_type": "code",
   "execution_count": 51,
   "id": "d5128c16",
   "metadata": {},
   "outputs": [
    {
     "name": "stdout",
     "output_type": "stream",
     "text": [
      "Index(['legId', 'searchDate', 'flightDate', 'startingAirport',\n",
      "       'destinationAirport', 'travelDuration', 'isBasicEconomy',\n",
      "       'isRefundable', 'isNonStop', 'totalFare', 'totalTravelDistance',\n",
      "       'segmentsDepartureTimeEpochSeconds', 'segmentsDepartureTimeRaw',\n",
      "       'segmentsArrivalTimeEpochSeconds', 'segmentsArrivalTimeRaw',\n",
      "       'segmentsArrivalAirportCode', 'segmentsDepartureAirportCode',\n",
      "       'segmentsAirlineName', 'segmentsAirlineCode',\n",
      "       'segmentsEquipmentDescription', 'segmentsDurationInSeconds',\n",
      "       'segmentsDistance', 'segmentsCabinCode', 'flightYear', 'flightMonth',\n",
      "       'flightDay', 'flightWeek', 'searchGap'],\n",
      "      dtype='object')\n"
     ]
    }
   ],
   "source": [
    "print(df.columns)"
   ]
  },
  {
   "cell_type": "markdown",
   "id": "5bd9abc9",
   "metadata": {},
   "source": [
    "Import necessary libraries"
   ]
  },
  {
   "cell_type": "code",
   "execution_count": 52,
   "id": "5d49a654",
   "metadata": {},
   "outputs": [],
   "source": [
    "from sklearn.compose import ColumnTransformer\n",
    "from sklearn.preprocessing import OneHotEncoder\n",
    "from sklearn.tree import DecisionTreeRegressor \n",
    "from sklearn.model_selection import train_test_split\n",
    "from sklearn.pipeline import Pipeline\n",
    "from sklearn.metrics import mean_squared_error, mean_absolute_error"
   ]
  },
  {
   "cell_type": "markdown",
   "id": "63450843",
   "metadata": {},
   "source": [
    "Selecting the relevant features (independent variables) and target (dependent variable)"
   ]
  },
  {
   "cell_type": "markdown",
   "id": "93e8d576",
   "metadata": {},
   "source": [
    "Split the data into training and testing sets"
   ]
  },
  {
   "cell_type": "code",
   "execution_count": 53,
   "id": "6c352b32",
   "metadata": {},
   "outputs": [],
   "source": [
    "X = df[['startingAirport', 'destinationAirport', 'flightDate', 'segmentsDepartureTimeRaw', 'segmentsCabinCode']]\n",
    "y = df['totalFare']\n",
    "X_train, X_test, y_train, y_test = train_test_split(X, y, test_size=0.2, random_state=42)"
   ]
  },
  {
   "cell_type": "markdown",
   "id": "8ce7c3b2",
   "metadata": {},
   "source": [
    " Define the categorical features and create a transformer"
   ]
  },
  {
   "cell_type": "code",
   "execution_count": 54,
   "id": "b494221b",
   "metadata": {},
   "outputs": [],
   "source": [
    "categorical_features = ['startingAirport', 'destinationAirport', 'segmentsCabinCode']\n",
    "categorical_transformer = ColumnTransformer(\n",
    "    transformers=[\n",
    "        ('cat', OneHotEncoder(handle_unknown='ignore'), categorical_features)\n",
    "    ])"
   ]
  },
  {
   "cell_type": "markdown",
   "id": "36282ad1",
   "metadata": {},
   "source": [
    "Created a machine learning pipeline with a DecisionTreeRegressor model"
   ]
  },
  {
   "cell_type": "code",
   "execution_count": 56,
   "id": "f9bf43cf",
   "metadata": {},
   "outputs": [],
   "source": [
    "model = Pipeline(steps=[('preprocessor', categorical_transformer),\n",
    "                        ('model', DecisionTreeRegressor())]) "
   ]
  },
  {
   "cell_type": "markdown",
   "id": "975ee914",
   "metadata": {},
   "source": [
    "Fit the model on the training data"
   ]
  },
  {
   "cell_type": "code",
   "execution_count": 58,
   "id": "c1262e0d",
   "metadata": {},
   "outputs": [
    {
     "data": {
      "text/plain": [
       "Pipeline(steps=[('preprocessor',\n",
       "                 ColumnTransformer(transformers=[('cat',\n",
       "                                                  OneHotEncoder(handle_unknown='ignore'),\n",
       "                                                  ['startingAirport',\n",
       "                                                   'destinationAirport',\n",
       "                                                   'segmentsCabinCode'])])),\n",
       "                ('model', DecisionTreeRegressor())])"
      ]
     },
     "execution_count": 58,
     "metadata": {},
     "output_type": "execute_result"
    }
   ],
   "source": [
    "model.fit(X_train, y_train)"
   ]
  },
  {
   "cell_type": "markdown",
   "id": "8113205a",
   "metadata": {},
   "source": [
    "Predictions on the test set"
   ]
  },
  {
   "cell_type": "code",
   "execution_count": 59,
   "id": "ba9fe238",
   "metadata": {},
   "outputs": [],
   "source": [
    "y_pred = model.predict(X_test)"
   ]
  },
  {
   "cell_type": "markdown",
   "id": "853f2e10",
   "metadata": {},
   "source": [
    "Calculated the Mean Squared Error (MSE) and Mean Absolute Error (MAE) for evaluation"
   ]
  },
  {
   "cell_type": "markdown",
   "id": "be3fe63b",
   "metadata": {},
   "source": [
    "Print the evaluation metrics"
   ]
  },
  {
   "cell_type": "code",
   "execution_count": 60,
   "id": "6793fc0b",
   "metadata": {},
   "outputs": [
    {
     "name": "stdout",
     "output_type": "stream",
     "text": [
      "Root Mean Squared Fare Prediction : 138.97 USD\n",
      "Mean Absolute Fare Prediction : 97.54 USD\n"
     ]
    }
   ],
   "source": [
    "mse = mean_squared_error(y_test, y_pred)\n",
    "mae = mean_absolute_error(y_test, y_pred)\n",
    "print(f\"Root Mean Squared Fare Prediction : {mse**0.5:.2f} USD\")\n",
    "print(f\"Mean Absolute Fare Prediction : {mae:.2f} USD\")"
   ]
  },
  {
   "cell_type": "markdown",
   "id": "6e39363f",
   "metadata": {},
   "source": [
    " Created a boxplot to visualize the airline fare distribution"
   ]
  },
  {
   "cell_type": "code",
   "execution_count": 61,
   "id": "9e019eb5",
   "metadata": {},
   "outputs": [
    {
     "data": {
      "image/png": "[encoded data removed]",
      "text/plain": [
       "<Figure size 800x600 with 1 Axes>"
      ]
     },
     "metadata": {},
     "output_type": "display_data"
    }
   ],
   "source": [
    "import matplotlib.pyplot as plt\n",
    "\n",
    "fare_data = df['totalFare']\n",
    "\n",
    "plt.figure(figsize=(8, 6))\n",
    "plt.boxplot(fare_data, vert=False, widths=0.7, patch_artist=True)\n",
    "plt.title('Airline Fare Distribution')\n",
    "plt.xlabel('Fare (USD)')\n",
    "plt.yticks([]) \n",
    "\n",
    "box = plt.boxplot(fare_data, vert=False, widths=0.7, patch_artist=True)\n",
    "for patch in box['boxes']:\n",
    "    patch.set_facecolor('lightblue')\n",
    "\n",
    "plt.show()"
   ]
  },
  {
   "cell_type": "markdown",
   "id": "c9e03b56",
   "metadata": {},
   "source": [
    "The trained model to a file using joblib"
   ]
  },
  {
   "cell_type": "code",
   "execution_count": 62,
   "id": "0c42be52",
   "metadata": {},
   "outputs": [
    {
     "data": {
      "text/plain": [
       "['flight_fare_model.pkl']"
      ]
     },
     "execution_count": 62,
     "metadata": {},
     "output_type": "execute_result"
    }
   ],
   "source": [
    "import joblib\n",
    "joblib.dump(model, 'flight_fare_model.pkl')"
   ]
  },
  {
   "cell_type": "code",
   "execution_count": 63,
   "id": "40528793",
   "metadata": {},
   "outputs": [],
   "source": [
    "import streamlit as st\n",
    "import joblib\n",
    "import pandas as pd\n",
    "\n",
    "\n",
    "model = joblib.load('flight_fare_model.pkl')\n",
    "\n",
    "def predict_fare(starting_airport, destination_airport, flight_date, departure_time, cabin_code):\n",
    "   \n",
    "    user_input = pd.DataFrame({\n",
    "        'startingAirport': [starting_airport],\n",
    "        'destinationAirport': [destination_airport],\n",
    "        'flightDate': [flight_date],\n",
    "        'segmentsDepartureTimeRaw': [departure_time],\n",
    "        'segmentsCabinCode': [cabin_code]\n",
    "    })\n",
    "\n",
    "    prediction = model.predict(user_input)\n",
    "    return prediction[0]\n",
    "\n",
    "# Streamlit UI\n",
    "st.title('Flight Fare Predictor')\n",
    "\n",
    "starting_airport = st.text_input('Starting Airport')\n",
    "destination_airport = st.text_input('Destination Airport')\n",
    "flight_date = st.date_input('Flight Date')\n",
    "departure_time = st.time_input('Departure Time')\n",
    "cabin_code = st.text_input('Cabin Code')\n",
    "\n",
    "if st.button('Predict Fare'):\n",
    "    if not (starting_airport and destination_airport and flight_date and departure_time and cabin_code):\n",
    "        st.error('Please fill in all the input fields.')\n",
    "    else:\n",
    "        predicted_fare = predict_fare(starting_airport, destination_airport, str(flight_date), str(departure_time), cabin_code)\n",
    "        st.success(f'Predicted Fare: ${predicted_fare:.2f}')"
   ]
  },
  {
   "cell_type": "code",
   "execution_count": 64,
   "id": "c88d7e1e",
   "metadata": {},
   "outputs": [
    {
     "name": "stdout",
     "output_type": "stream",
     "text": [
      " Volume in drive C is OS\n",
      " Volume Serial Number is 1E6C-39F6\n",
      "\n",
      " Directory of C:\\Users\\SMIT KHATRI\\Downloads\\notebooks\n",
      "\n",
      "09-11-2023  14:52    <DIR>          .\n",
      "09-11-2023  13:30    <DIR>          ..\n",
      "09-11-2023  11:57    <DIR>          .ipynb_checkpoints\n",
      "07-11-2023  16:27            10,420 Data cleaning and preparation.ipynb\n",
      "09-11-2023  14:53           343,080 flight_fare_model.pkl\n",
      "09-11-2023  09:54           102,961 Group Assignment 3 Smit Khatri  .ipynb\n",
      "09-11-2023  14:52            48,678 Group Assignment 3_Smit Khatri_model  .ipynb\n",
      "               4 File(s)        505,139 bytes\n",
      "               3 Dir(s)  229,740,752,896 bytes free\n"
     ]
    }
   ],
   "source": [
    "ls"
   ]
  },
  {
   "cell_type": "code",
   "execution_count": null,
   "id": "697eae2f",
   "metadata": {},
   "outputs": [],
   "source": [
    "streamlit run .py"
   ]
  }
 ],
 "metadata": {
  "kernelspec": {
   "display_name": "Python 3 (ipykernel)",
   "language": "python",
   "name": "python3"
  },
  "language_info": {
   "codemirror_mode": {
    "name": "ipython",
    "version": 3
   },
   "file_extension": ".py",
   "mimetype": "text/x-python",
   "name": "python",
   "nbconvert_exporter": "python",
   "pygments_lexer": "ipython3",
   "version": "3.11.4"
  }
 },
 "nbformat": 4,
 "nbformat_minor": 5
}
